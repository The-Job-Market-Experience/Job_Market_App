{
 "cells": [
  {
   "cell_type": "code",
   "execution_count": null,
   "id": "8bb3e2b5",
   "metadata": {
    "ExecuteTime": {
     "end_time": "2023-10-13T11:19:28.044278Z",
     "start_time": "2023-10-13T11:19:27.401561Z"
    }
   },
   "outputs": [],
   "source": [
    "### import libraries\n",
    "\n",
    "from bs4 import BeautifulSoup as bs\n",
    "import requests\n",
    "import pandas as pd\n",
    "import numpy as np\n",
    "\n",
    "import datetime"
   ]
  },
  {
   "cell_type": "code",
   "execution_count": null,
   "id": "189e12b3",
   "metadata": {
    "ExecuteTime": {
     "end_time": "2023-10-13T11:28:48.920910Z",
     "start_time": "2023-10-13T11:28:48.669486Z"
    }
   },
   "outputs": [],
   "source": [
    "### request html code\n",
    "### english language and germany. otherwise no parameter\n",
    "\n",
    "url = 'https://www.stepstone.de/jobs/in-germany?radius=30'\n",
    "headers = {'User-Agent': 'Mozilla/5.0 (Macintosh; Intel Mac OS X 10.10; rv:39.0)'}\n",
    "\n",
    "response = requests.get(url, headers=headers)"
   ]
  },
  {
   "cell_type": "code",
   "execution_count": null,
   "id": "9309f82e",
   "metadata": {
    "ExecuteTime": {
     "end_time": "2023-10-13T11:28:55.069904Z",
     "start_time": "2023-10-13T11:28:54.911817Z"
    }
   },
   "outputs": [],
   "source": [
    "### parse response with beautiful soup\n",
    "\n",
    "soup = bs(response.content, 'html.parser')"
   ]
  },
  {
   "cell_type": "code",
   "execution_count": null,
   "id": "7e760488",
   "metadata": {
    "ExecuteTime": {
     "end_time": "2023-10-13T11:29:01.393348Z",
     "start_time": "2023-10-13T11:29:01.387369Z"
    }
   },
   "outputs": [],
   "source": [
    "soup.title"
   ]
  },
  {
   "cell_type": "code",
   "execution_count": null,
   "id": "4522f0eb",
   "metadata": {
    "ExecuteTime": {
     "end_time": "2023-10-13T11:29:07.784723Z",
     "start_time": "2023-10-13T11:29:07.777917Z"
    }
   },
   "outputs": [],
   "source": [
    "### job block, displayed on landing page for each job offer\n",
    "jobs = soup.find_all('article', class_='res-j5y1mq')"
   ]
  },
  {
   "cell_type": "code",
   "execution_count": null,
   "id": "6bfcdbbe",
   "metadata": {
    "ExecuteTime": {
     "end_time": "2023-10-13T11:29:14.001389Z",
     "start_time": "2023-10-13T11:29:13.997179Z"
    }
   },
   "outputs": [],
   "source": [
    "len(jobs)"
   ]
  },
  {
   "cell_type": "code",
   "execution_count": null,
   "id": "beaaa19b",
   "metadata": {
    "ExecuteTime": {
     "end_time": "2023-10-13T11:29:20.263030Z",
     "start_time": "2023-10-13T11:29:20.251571Z"
    }
   },
   "outputs": [],
   "source": [
    "job_titles, companies, locations, descriptions, times = [],[],[],[],[]\n",
    "\n",
    "for job in jobs:\n",
    "    job_title = job.find('div', class_='res-nehv70').text\n",
    "    job_titles.append(job_title)\n",
    "    \n",
    "    company = job.find('span', class_='res-btchsq')\n",
    "    companies.append(company.text)\n",
    "    \n",
    "    location = company.find_next('span', class_='res-btchsq')\n",
    "    locations.append(location.text)\n",
    "    \n",
    "    description = job.find('div', class_='res-1d1eotm')\n",
    "    descriptions.append(description.text)\n",
    "    \n",
    "    #time_element =  soup.find('time')\n",
    "    #times.append(time_element['datetime'])\n",
    "    \n",
    "### the descritions are cut at some point.\n",
    "### i think it is needed to follow the given url to get to the entire description"
   ]
  },
  {
   "cell_type": "code",
   "execution_count": null,
   "id": "8a2eebb8",
   "metadata": {
    "ExecuteTime": {
     "end_time": "2023-10-13T11:31:10.329377Z",
     "start_time": "2023-10-13T11:31:10.322805Z"
    }
   },
   "outputs": [],
   "source": [
    "job_titles"
   ]
  },
  {
   "cell_type": "code",
   "execution_count": null,
   "id": "57235b1b",
   "metadata": {
    "ExecuteTime": {
     "end_time": "2023-10-13T11:29:26.601572Z",
     "start_time": "2023-10-13T11:29:26.595872Z"
    }
   },
   "outputs": [],
   "source": [
    "#soup.find('span', class_='res-9ochkb')\n",
    "soup.find('time')\n",
    "\n",
    "### no idea how, but i somehow lost the datetime attribute"
   ]
  },
  {
   "cell_type": "code",
   "execution_count": null,
   "id": "2e527b87",
   "metadata": {
    "ExecuteTime": {
     "end_time": "2023-10-13T11:19:28.497450Z",
     "start_time": "2023-10-13T11:19:28.494402Z"
    }
   },
   "outputs": [],
   "source": [
    "#soup.time.attrs['datetime']"
   ]
  },
  {
   "cell_type": "code",
   "execution_count": null,
   "id": "2781749f",
   "metadata": {
    "ExecuteTime": {
     "end_time": "2023-10-13T11:29:33.002625Z",
     "start_time": "2023-10-13T11:29:32.995797Z"
    }
   },
   "outputs": [],
   "source": [
    "t = soup.find('time', {'datetime': True})"
   ]
  },
  {
   "cell_type": "code",
   "execution_count": null,
   "id": "0b0ee691",
   "metadata": {
    "ExecuteTime": {
     "end_time": "2023-10-13T11:29:39.256731Z",
     "start_time": "2023-10-13T11:29:39.253425Z"
    }
   },
   "outputs": [],
   "source": [
    "print(t)"
   ]
  },
  {
   "cell_type": "code",
   "execution_count": null,
   "id": "509315f6",
   "metadata": {
    "ExecuteTime": {
     "end_time": "2023-10-13T11:19:28.537330Z",
     "start_time": "2023-10-13T11:19:28.531046Z"
    }
   },
   "outputs": [],
   "source": [
    "### creating dataframe out of data, without datetime"
   ]
  },
  {
   "cell_type": "code",
   "execution_count": null,
   "id": "587b5735",
   "metadata": {
    "ExecuteTime": {
     "end_time": "2023-10-13T11:29:45.883825Z",
     "start_time": "2023-10-13T11:29:45.880761Z"
    }
   },
   "outputs": [],
   "source": [
    "jobs_=[job_titles, companies, locations, descriptions, times]"
   ]
  },
  {
   "cell_type": "code",
   "execution_count": null,
   "id": "8e77421c",
   "metadata": {
    "ExecuteTime": {
     "end_time": "2023-10-13T11:33:11.556190Z",
     "start_time": "2023-10-13T11:33:11.551462Z"
    }
   },
   "outputs": [],
   "source": [
    "df=pd.DataFrame(list(zip(job_titles, companies, locations, descriptions)), columns=['job_titles', 'companies', 'locations', 'descriptions'])"
   ]
  },
  {
   "cell_type": "code",
   "execution_count": null,
   "id": "336400d8",
   "metadata": {
    "ExecuteTime": {
     "end_time": "2023-10-13T11:33:18.366262Z",
     "start_time": "2023-10-13T11:33:18.357547Z"
    }
   },
   "outputs": [],
   "source": [
    "df"
   ]
  },
  {
   "cell_type": "code",
   "execution_count": null,
   "id": "cf4f14fb",
   "metadata": {
    "ExecuteTime": {
     "end_time": "2023-10-13T11:40:37.003070Z",
     "start_time": "2023-10-13T11:40:36.996425Z"
    }
   },
   "outputs": [],
   "source": [
    "### save dataframe into .csv\n",
    "### maybe for data size efficiency using  pickle file\n",
    "\n",
    "df.to_csv('./jobs.csv')"
   ]
  },
  {
   "cell_type": "code",
   "execution_count": null,
   "id": "9a531ee4",
   "metadata": {},
   "outputs": [],
   "source": []
  },
  {
   "cell_type": "code",
   "execution_count": null,
   "id": "193138bc",
   "metadata": {
    "ExecuteTime": {
     "end_time": "2023-10-13T11:19:28.544156Z",
     "start_time": "2023-10-13T11:19:28.540660Z"
    }
   },
   "outputs": [],
   "source": [
    "html = \"\"\"\n",
    "<span class=\"res-9ochkb\" data-genesis-element=\"TEXT\" data-at=\"job-item-timeago\"><time class=\"\" datetime=\"2023-10-11T16:27:37+02:00\" timeago-id=\"25\">vor 1 Tag</time></span>\n",
    "\"\"\""
   ]
  },
  {
   "cell_type": "code",
   "execution_count": null,
   "id": "c960a2cc",
   "metadata": {
    "ExecuteTime": {
     "end_time": "2023-10-13T11:19:28.552187Z",
     "start_time": "2023-10-13T11:19:28.547188Z"
    }
   },
   "outputs": [],
   "source": [
    "soup_test = bs(html)"
   ]
  },
  {
   "cell_type": "code",
   "execution_count": null,
   "id": "3c5f0266",
   "metadata": {
    "ExecuteTime": {
     "end_time": "2023-10-13T11:19:28.562669Z",
     "start_time": "2023-10-13T11:19:28.556406Z"
    }
   },
   "outputs": [],
   "source": [
    "print(soup_test.find('time'))"
   ]
  },
  {
   "cell_type": "code",
   "execution_count": null,
   "id": "18d4784e",
   "metadata": {
    "ExecuteTime": {
     "end_time": "2023-10-13T11:21:42.369156Z",
     "start_time": "2023-10-13T11:21:42.314618Z"
    }
   },
   "outputs": [],
   "source": [
    "soup.select('time')"
   ]
  },
  {
   "cell_type": "code",
   "execution_count": null,
   "id": "0f62b984",
   "metadata": {},
   "outputs": [],
   "source": []
  },
  {
   "cell_type": "code",
   "execution_count": null,
   "id": "5b34c135",
   "metadata": {},
   "outputs": [],
   "source": []
  }
 ],
 "metadata": {
  "kernelspec": {
   "display_name": "Python 3 (ipykernel)",
   "language": "python",
   "name": "python3"
  },
  "language_info": {
   "codemirror_mode": {
    "name": "ipython",
    "version": 3
   },
   "file_extension": ".py",
   "mimetype": "text/x-python",
   "name": "python",
   "nbconvert_exporter": "python",
   "pygments_lexer": "ipython3",
   "version": "3.10.0"
  },
  "toc": {
   "base_numbering": 1,
   "nav_menu": {},
   "number_sections": true,
   "sideBar": true,
   "skip_h1_title": false,
   "title_cell": "Table of Contents",
   "title_sidebar": "Contents",
   "toc_cell": false,
   "toc_position": {},
   "toc_section_display": true,
   "toc_window_display": false
  },
  "varInspector": {
   "cols": {
    "lenName": 16,
    "lenType": 16,
    "lenVar": 40
   },
   "kernels_config": {
    "python": {
     "delete_cmd_postfix": "",
     "delete_cmd_prefix": "del ",
     "library": "var_list.py",
     "varRefreshCmd": "print(var_dic_list())"
    },
    "r": {
     "delete_cmd_postfix": ") ",
     "delete_cmd_prefix": "rm(",
     "library": "var_list.r",
     "varRefreshCmd": "cat(var_dic_list()) "
    }
   },
   "types_to_exclude": [
    "module",
    "function",
    "builtin_function_or_method",
    "instance",
    "_Feature"
   ],
   "window_display": false
  }
 },
 "nbformat": 4,
 "nbformat_minor": 5
}
