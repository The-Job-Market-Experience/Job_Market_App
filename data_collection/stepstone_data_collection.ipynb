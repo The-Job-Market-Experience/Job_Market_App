{
 "cells": [
  {
   "cell_type": "code",
   "execution_count": 2,
   "id": "8bb3e2b5",
   "metadata": {
    "ExecuteTime": {
     "end_time": "2023-10-28T16:47:46.958490Z",
     "start_time": "2023-10-28T16:47:46.953977Z"
    }
   },
   "outputs": [],
   "source": [
    "### import libraries\n",
    "\n",
    "from bs4 import BeautifulSoup as bs\n",
    "import requests\n",
    "from urllib.parse import urljoin\n",
    "import pandas as pd\n",
    "import numpy as np\n",
    "\n",
    "import datetime\n",
    "\n",
    "import json"
   ]
  },
  {
   "cell_type": "code",
   "execution_count": 3,
   "id": "189e12b3",
   "metadata": {
    "ExecuteTime": {
     "end_time": "2023-10-28T16:47:49.965503Z",
     "start_time": "2023-10-28T16:47:49.675146Z"
    }
   },
   "outputs": [],
   "source": [
    "### request html code\n",
    "### english language and germany. otherwise no parameter\n",
    "\n",
    "url = 'https://www.stepstone.de/jobs/data/in-germany?radius=30&action=facet_selected%3bdetectedLanguages%3ben&fdl=en'\n",
    "headers = {'User-Agent': 'Mozilla/5.0 (Macintosh; Intel Mac OS X 10.10; rv:39.0)'}\n",
    "\n",
    "response = requests.get(url, headers=headers)"
   ]
  },
  {
   "cell_type": "code",
   "execution_count": 4,
   "id": "9309f82e",
   "metadata": {
    "ExecuteTime": {
     "end_time": "2023-10-28T16:47:52.226638Z",
     "start_time": "2023-10-28T16:47:52.038413Z"
    }
   },
   "outputs": [],
   "source": [
    "### parse response with beautiful soup\n",
    "\n",
    "soup = bs(response.content, 'html.parser')"
   ]
  },
  {
   "cell_type": "code",
   "execution_count": 5,
   "id": "04a1ab3c",
   "metadata": {
    "ExecuteTime": {
     "end_time": "2023-10-28T16:47:54.280771Z",
     "start_time": "2023-10-28T16:47:54.266193Z"
    }
   },
   "outputs": [],
   "source": [
    "job_offer_links = soup.find_all(\"a\", class_=\"res-y456gn\")"
   ]
  },
  {
   "cell_type": "code",
   "execution_count": 6,
   "id": "2ec50c2c",
   "metadata": {
    "ExecuteTime": {
     "end_time": "2023-10-28T16:47:55.958553Z",
     "start_time": "2023-10-28T16:47:55.954013Z"
    }
   },
   "outputs": [],
   "source": [
    "job_url = job_offer_links[0]['href']"
   ]
  },
  {
   "cell_type": "code",
   "execution_count": 7,
   "id": "7a981aea",
   "metadata": {
    "ExecuteTime": {
     "end_time": "2023-10-28T16:47:57.712607Z",
     "start_time": "2023-10-28T16:47:57.708537Z"
    }
   },
   "outputs": [],
   "source": [
    "base_url = 'https://www.stepstone.de'"
   ]
  },
  {
   "cell_type": "code",
   "execution_count": 9,
   "id": "752c7874",
   "metadata": {
    "ExecuteTime": {
     "end_time": "2023-10-28T16:48:03.608933Z",
     "start_time": "2023-10-28T16:48:03.604439Z"
    }
   },
   "outputs": [],
   "source": [
    "complete_job_url = urljoin(base_url, job_url)"
   ]
  },
  {
   "cell_type": "code",
   "execution_count": 10,
   "id": "5ce3444b",
   "metadata": {
    "ExecuteTime": {
     "end_time": "2023-10-28T16:48:05.412779Z",
     "start_time": "2023-10-28T16:48:05.403756Z"
    }
   },
   "outputs": [
    {
     "data": {
      "text/plain": [
       "'https://www.stepstone.de/stellenangebote--Data-Governance-and-Risk-Reporting-Vice-President-Frankfurt-Frankfurt-Germany-Morgan-Stanley--10120658-inline.html'"
      ]
     },
     "execution_count": 10,
     "metadata": {},
     "output_type": "execute_result"
    }
   ],
   "source": [
    "complete_job_url"
   ]
  },
  {
   "cell_type": "code",
   "execution_count": 11,
   "id": "7e760488",
   "metadata": {
    "ExecuteTime": {
     "end_time": "2023-10-28T16:48:08.736543Z",
     "start_time": "2023-10-28T16:48:07.812013Z"
    }
   },
   "outputs": [],
   "source": [
    "job_response = requests.get(complete_job_url, headers = headers)"
   ]
  },
  {
   "cell_type": "code",
   "execution_count": 12,
   "id": "a4238821",
   "metadata": {
    "ExecuteTime": {
     "end_time": "2023-10-28T16:48:10.154627Z",
     "start_time": "2023-10-28T16:48:10.148136Z"
    }
   },
   "outputs": [
    {
     "data": {
      "text/plain": [
       "200"
      ]
     },
     "execution_count": 12,
     "metadata": {},
     "output_type": "execute_result"
    }
   ],
   "source": [
    "job_response.status_code"
   ]
  },
  {
   "cell_type": "code",
   "execution_count": 13,
   "id": "2341b798",
   "metadata": {
    "ExecuteTime": {
     "end_time": "2023-10-28T16:48:11.946986Z",
     "start_time": "2023-10-28T16:48:11.884681Z"
    }
   },
   "outputs": [],
   "source": [
    "job_soup = bs(job_response.text, 'html.parser')"
   ]
  },
  {
   "cell_type": "code",
   "execution_count": 25,
   "id": "faa72a73",
   "metadata": {
    "ExecuteTime": {
     "end_time": "2023-10-28T16:52:45.698952Z",
     "start_time": "2023-10-28T16:52:45.693687Z"
    }
   },
   "outputs": [],
   "source": [
    "t = job_soup.find('div', class_='mt-16')"
   ]
  },
  {
   "cell_type": "code",
   "execution_count": 26,
   "id": "c0a0f70e",
   "metadata": {
    "ExecuteTime": {
     "end_time": "2023-10-28T16:52:48.048655Z",
     "start_time": "2023-10-28T16:52:48.045167Z"
    }
   },
   "outputs": [
    {
     "name": "stdout",
     "output_type": "stream",
     "text": [
      "<div class=\"mt-16\"></div>\n"
     ]
    }
   ],
   "source": [
    "print(t)"
   ]
  },
  {
   "cell_type": "code",
   "execution_count": null,
   "id": "ccb41c5f",
   "metadata": {
    "ExecuteTime": {
     "start_time": "2023-10-28T16:47:21.572Z"
    }
   },
   "outputs": [],
   "source": [
    "sawdefrgthzj"
   ]
  },
  {
   "cell_type": "code",
   "execution_count": null,
   "id": "3d3955b2",
   "metadata": {
    "ExecuteTime": {
     "start_time": "2023-10-28T16:47:21.574Z"
    }
   },
   "outputs": [],
   "source": [
    "job_listings = soup.find_all(\"article\", class_=\"res-j5y1mq\")"
   ]
  },
  {
   "cell_type": "code",
   "execution_count": null,
   "id": "6bfcdbbe",
   "metadata": {
    "ExecuteTime": {
     "start_time": "2023-10-28T16:47:21.576Z"
    }
   },
   "outputs": [],
   "source": [
    "len(job_listings)"
   ]
  },
  {
   "cell_type": "code",
   "execution_count": null,
   "id": "eb4a9dc8",
   "metadata": {
    "ExecuteTime": {
     "start_time": "2023-10-28T16:47:21.577Z"
    }
   },
   "outputs": [],
   "source": [
    "job_listings"
   ]
  },
  {
   "cell_type": "code",
   "execution_count": null,
   "id": "fd3b5d38",
   "metadata": {
    "ExecuteTime": {
     "start_time": "2023-10-28T16:47:21.579Z"
    }
   },
   "outputs": [],
   "source": [
    "job_titles = []\n",
    "for job in job_listings:\n",
    "    job_title = job_listings.find('div', class_='res-nehv70').text\n",
    "    job_titles.append(job_title)"
   ]
  },
  {
   "cell_type": "code",
   "execution_count": null,
   "id": "beaaa19b",
   "metadata": {
    "ExecuteTime": {
     "start_time": "2023-10-28T16:47:21.580Z"
    }
   },
   "outputs": [],
   "source": [
    "job_titles, companies, locations, descriptions, times = [],[],[],[],[]\n",
    "\n",
    "for job in jobs:\n",
    "    job_title = job.find('div', class_='res-nehv70').text\n",
    "    job_titles.append(job_title)\n",
    "    \n",
    "    company = job.find('span', class_='res-btchsq')\n",
    "    companies.append(company.text)\n",
    "    \n",
    "    location = company.find_next('span', class_='res-btchsq')\n",
    "    locations.append(location.text)\n",
    "    \n",
    "    description = job.find('div', class_='res-1d1eotm')\n",
    "    descriptions.append(description.text)\n",
    "    \n",
    "    #time_element =  soup.find('time')\n",
    "    #times.append(time_element['datetime'])\n",
    "    \n",
    "### the descritions are cut at some point.\n",
    "### i think it is needed to follow the given url to get to the entire description"
   ]
  },
  {
   "cell_type": "code",
   "execution_count": null,
   "id": "84abc06c",
   "metadata": {
    "ExecuteTime": {
     "start_time": "2023-10-28T16:47:21.581Z"
    }
   },
   "outputs": [],
   "source": [
    "job_titles"
   ]
  },
  {
   "cell_type": "code",
   "execution_count": null,
   "id": "57235b1b",
   "metadata": {
    "ExecuteTime": {
     "start_time": "2023-10-28T16:47:21.582Z"
    }
   },
   "outputs": [],
   "source": [
    "#soup.find('span', class_='res-9ochkb')\n",
    "soup.find('time')\n",
    "\n",
    "### no idea how, but i somehow lost the datetime attribute"
   ]
  },
  {
   "cell_type": "code",
   "execution_count": null,
   "id": "2e527b87",
   "metadata": {
    "ExecuteTime": {
     "start_time": "2023-10-28T16:47:21.583Z"
    }
   },
   "outputs": [],
   "source": [
    "soup.has_attr('datetime')"
   ]
  },
  {
   "cell_type": "code",
   "execution_count": null,
   "id": "c7514d1f",
   "metadata": {
    "ExecuteTime": {
     "start_time": "2023-10-28T16:47:21.584Z"
    }
   },
   "outputs": [],
   "source": [
    "t = soup.find('time', {'datetime': True})"
   ]
  },
  {
   "cell_type": "code",
   "execution_count": null,
   "id": "87bb2924",
   "metadata": {
    "ExecuteTime": {
     "start_time": "2023-10-28T16:47:21.585Z"
    }
   },
   "outputs": [],
   "source": [
    "print(t)"
   ]
  },
  {
   "cell_type": "code",
   "execution_count": null,
   "id": "509315f6",
   "metadata": {
    "ExecuteTime": {
     "start_time": "2023-10-28T16:47:21.585Z"
    }
   },
   "outputs": [],
   "source": [
    "### creating dataframe out of data, without datetime"
   ]
  },
  {
   "cell_type": "code",
   "execution_count": null,
   "id": "e0c0266a",
   "metadata": {
    "ExecuteTime": {
     "start_time": "2023-10-28T16:47:21.586Z"
    }
   },
   "outputs": [],
   "source": [
    "jobs_=[job_titles, companies, locations, descriptions]"
   ]
  },
  {
   "cell_type": "code",
   "execution_count": null,
   "id": "3d21c18e",
   "metadata": {
    "ExecuteTime": {
     "start_time": "2023-10-28T16:47:21.587Z"
    }
   },
   "outputs": [],
   "source": [
    "df=pd.DataFrame(list(zip(job_titles, companies, locations, descriptions)), columns=['job_titles', 'companies', 'locations', 'descriptions'])"
   ]
  },
  {
   "cell_type": "code",
   "execution_count": null,
   "id": "9944a154",
   "metadata": {
    "ExecuteTime": {
     "start_time": "2023-10-28T16:47:21.588Z"
    }
   },
   "outputs": [],
   "source": [
    "df"
   ]
  },
  {
   "cell_type": "code",
   "execution_count": null,
   "id": "e0f94e93",
   "metadata": {
    "ExecuteTime": {
     "start_time": "2023-10-28T16:47:21.589Z"
    }
   },
   "outputs": [],
   "source": [
    "### save dataframe into .csv\n",
    "### maybe for data size efficiency using  pickle file\n",
    "\n",
    "#df.to_csv('./jobs.csv')"
   ]
  },
  {
   "cell_type": "code",
   "execution_count": null,
   "id": "cdc8737b",
   "metadata": {
    "ExecuteTime": {
     "start_time": "2023-10-28T16:47:21.590Z"
    }
   },
   "outputs": [],
   "source": [
    "### creating dictionary out of df\n",
    "\n",
    "df_dict = df.to_dict()"
   ]
  },
  {
   "cell_type": "code",
   "execution_count": null,
   "id": "d5f17dbf",
   "metadata": {
    "ExecuteTime": {
     "start_time": "2023-10-28T16:47:21.592Z"
    }
   },
   "outputs": [],
   "source": [
    "df_dict"
   ]
  },
  {
   "cell_type": "code",
   "execution_count": null,
   "id": "faa82d2c",
   "metadata": {
    "ExecuteTime": {
     "start_time": "2023-10-28T16:47:21.593Z"
    }
   },
   "outputs": [],
   "source": [
    "### save data into .json\n",
    "jobs_dict = json.dumps(df_dict)"
   ]
  },
  {
   "cell_type": "code",
   "execution_count": null,
   "id": "b245fac9",
   "metadata": {
    "ExecuteTime": {
     "start_time": "2023-10-28T16:47:21.593Z"
    }
   },
   "outputs": [],
   "source": [
    "with open (\"jobs_dict.json\", \"w\") as outfile:\n",
    "    outfile.write(jobs_dict)"
   ]
  },
  {
   "cell_type": "code",
   "execution_count": null,
   "id": "9819c71f",
   "metadata": {},
   "outputs": [],
   "source": []
  },
  {
   "cell_type": "code",
   "execution_count": null,
   "id": "193138bc",
   "metadata": {
    "ExecuteTime": {
     "start_time": "2023-10-28T16:47:21.595Z"
    }
   },
   "outputs": [],
   "source": [
    "html = \"\"\"\n",
    "<span class=\"res-9ochkb\" data-genesis-element=\"TEXT\" data-at=\"job-item-timeago\"><time class=\"\" datetime=\"2023-10-11T16:27:37+02:00\" timeago-id=\"25\">vor 1 Tag</time></span>\n",
    "\"\"\""
   ]
  },
  {
   "cell_type": "code",
   "execution_count": null,
   "id": "c960a2cc",
   "metadata": {
    "ExecuteTime": {
     "start_time": "2023-10-28T16:47:21.595Z"
    }
   },
   "outputs": [],
   "source": [
    "soup_test = bs(html)"
   ]
  },
  {
   "cell_type": "code",
   "execution_count": null,
   "id": "d3138d87",
   "metadata": {
    "ExecuteTime": {
     "start_time": "2023-10-28T16:47:21.596Z"
    }
   },
   "outputs": [],
   "source": [
    "print(soup_test.find('time'))"
   ]
  },
  {
   "cell_type": "code",
   "execution_count": null,
   "id": "76b6fdea",
   "metadata": {
    "ExecuteTime": {
     "start_time": "2023-10-28T16:47:21.597Z"
    }
   },
   "outputs": [],
   "source": [
    "soup.select('time')"
   ]
  },
  {
   "cell_type": "code",
   "execution_count": null,
   "id": "7167e3e2",
   "metadata": {},
   "outputs": [],
   "source": []
  },
  {
   "cell_type": "code",
   "execution_count": null,
   "id": "a7e14cb5",
   "metadata": {
    "ExecuteTime": {
     "end_time": "2023-10-28T15:32:16.414401Z",
     "start_time": "2023-10-28T15:32:16.410457Z"
    }
   },
   "outputs": [],
   "source": []
  },
  {
   "cell_type": "code",
   "execution_count": null,
   "id": "baaf14a9",
   "metadata": {
    "ExecuteTime": {
     "end_time": "2023-10-28T15:32:18.707148Z",
     "start_time": "2023-10-28T15:32:18.703011Z"
    }
   },
   "outputs": [],
   "source": []
  },
  {
   "cell_type": "code",
   "execution_count": null,
   "id": "8569c874",
   "metadata": {
    "ExecuteTime": {
     "end_time": "2023-10-28T15:32:20.577292Z",
     "start_time": "2023-10-28T15:32:20.573258Z"
    }
   },
   "outputs": [],
   "source": []
  },
  {
   "cell_type": "code",
   "execution_count": null,
   "id": "6ac8f74c",
   "metadata": {
    "ExecuteTime": {
     "end_time": "2023-10-28T15:33:15.365800Z",
     "start_time": "2023-10-28T15:32:22.959957Z"
    }
   },
   "outputs": [],
   "source": []
  },
  {
   "cell_type": "code",
   "execution_count": null,
   "id": "3cf446c7",
   "metadata": {},
   "outputs": [],
   "source": []
  },
  {
   "cell_type": "code",
   "execution_count": null,
   "id": "09b53b69",
   "metadata": {},
   "outputs": [],
   "source": []
  },
  {
   "cell_type": "code",
   "execution_count": null,
   "id": "e0ce231c",
   "metadata": {},
   "outputs": [],
   "source": []
  },
  {
   "cell_type": "code",
   "execution_count": null,
   "id": "c7edb3a4",
   "metadata": {},
   "outputs": [],
   "source": []
  },
  {
   "cell_type": "code",
   "execution_count": null,
   "id": "2bd6a1cf",
   "metadata": {},
   "outputs": [],
   "source": []
  }
 ],
 "metadata": {
  "kernelspec": {
   "display_name": "Python 3 (ipykernel)",
   "language": "python",
   "name": "python3"
  },
  "language_info": {
   "codemirror_mode": {
    "name": "ipython",
    "version": 3
   },
   "file_extension": ".py",
   "mimetype": "text/x-python",
   "name": "python",
   "nbconvert_exporter": "python",
   "pygments_lexer": "ipython3",
   "version": "3.10.0"
  },
  "toc": {
   "base_numbering": 1,
   "nav_menu": {},
   "number_sections": true,
   "sideBar": true,
   "skip_h1_title": false,
   "title_cell": "Table of Contents",
   "title_sidebar": "Contents",
   "toc_cell": false,
   "toc_position": {},
   "toc_section_display": true,
   "toc_window_display": false
  },
  "varInspector": {
   "cols": {
    "lenName": 16,
    "lenType": 16,
    "lenVar": 40
   },
   "kernels_config": {
    "python": {
     "delete_cmd_postfix": "",
     "delete_cmd_prefix": "del ",
     "library": "var_list.py",
     "varRefreshCmd": "print(var_dic_list())"
    },
    "r": {
     "delete_cmd_postfix": ") ",
     "delete_cmd_prefix": "rm(",
     "library": "var_list.r",
     "varRefreshCmd": "cat(var_dic_list()) "
    }
   },
   "types_to_exclude": [
    "module",
    "function",
    "builtin_function_or_method",
    "instance",
    "_Feature"
   ],
   "window_display": false
  }
 },
 "nbformat": 4,
 "nbformat_minor": 5
}
