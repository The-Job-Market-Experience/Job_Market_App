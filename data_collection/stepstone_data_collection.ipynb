{
 "cells": [
  {
   "cell_type": "code",
   "execution_count": 1,
   "id": "8bb3e2b5",
   "metadata": {
    "ExecuteTime": {
     "end_time": "2023-10-13T10:08:09.576632Z",
     "start_time": "2023-10-13T10:08:09.163476Z"
    }
   },
   "outputs": [],
   "source": [
    "### import libraries\n",
    "\n",
    "from bs4 import BeautifulSoup as bs\n",
    "import requests\n",
    "import pandas as pd\n",
    "import numpy as np\n",
    "\n",
    "import datetime"
   ]
  },
  {
   "cell_type": "code",
   "execution_count": 2,
   "id": "189e12b3",
   "metadata": {
    "ExecuteTime": {
     "end_time": "2023-10-13T10:08:09.857618Z",
     "start_time": "2023-10-13T10:08:09.580250Z"
    }
   },
   "outputs": [],
   "source": [
    "### request html code\n",
    "### english language and germany. otherwise no parameter\n",
    "\n",
    "url = 'https://www.stepstone.de/jobs/in-germany?radius=30&action=facet_selected%3bskills%3b673826&fsk=673826'\n",
    "headers = {'User-Agent': 'Mozilla/5.0 (Macintosh; Intel Mac OS X 10.10; rv:39.0)'}\n",
    "\n",
    "response = requests.get(url, headers=headers)"
   ]
  },
  {
   "cell_type": "code",
   "execution_count": 3,
   "id": "8577a0e0",
   "metadata": {
    "ExecuteTime": {
     "end_time": "2023-10-13T10:08:09.866971Z",
     "start_time": "2023-10-13T10:08:09.860209Z"
    }
   },
   "outputs": [
    {
     "data": {
      "text/plain": [
       "<Response [200]>"
      ]
     },
     "execution_count": 3,
     "metadata": {},
     "output_type": "execute_result"
    }
   ],
   "source": [
    "response"
   ]
  },
  {
   "cell_type": "code",
   "execution_count": 4,
   "id": "9309f82e",
   "metadata": {
    "ExecuteTime": {
     "end_time": "2023-10-13T10:08:10.023049Z",
     "start_time": "2023-10-13T10:08:09.870284Z"
    }
   },
   "outputs": [],
   "source": [
    "### parse response with beautiful soup\n",
    "\n",
    "soup = bs(response.content, 'html.parser')"
   ]
  },
  {
   "cell_type": "code",
   "execution_count": 5,
   "id": "7e760488",
   "metadata": {
    "ExecuteTime": {
     "end_time": "2023-10-13T10:08:10.030750Z",
     "start_time": "2023-10-13T10:08:10.026065Z"
    }
   },
   "outputs": [
    {
     "data": {
      "text/plain": [
       "<title>Aktuelle Jobs und Stellenangebote in Germany - Oktober 2023</title>"
      ]
     },
     "execution_count": 5,
     "metadata": {},
     "output_type": "execute_result"
    }
   ],
   "source": [
    "soup.title"
   ]
  },
  {
   "cell_type": "code",
   "execution_count": 6,
   "id": "4522f0eb",
   "metadata": {
    "ExecuteTime": {
     "end_time": "2023-10-13T10:08:10.040738Z",
     "start_time": "2023-10-13T10:08:10.032947Z"
    }
   },
   "outputs": [],
   "source": [
    "### job block, displayed on landing page for each job offer\n",
    "jobs = soup.find_all('article', class_='res-j5y1mq')"
   ]
  },
  {
   "cell_type": "code",
   "execution_count": 7,
   "id": "6bfcdbbe",
   "metadata": {
    "ExecuteTime": {
     "end_time": "2023-10-13T10:08:10.047005Z",
     "start_time": "2023-10-13T10:08:10.042513Z"
    }
   },
   "outputs": [
    {
     "data": {
      "text/plain": [
       "25"
      ]
     },
     "execution_count": 7,
     "metadata": {},
     "output_type": "execute_result"
    }
   ],
   "source": [
    "len(jobs)"
   ]
  },
  {
   "cell_type": "code",
   "execution_count": 8,
   "id": "beaaa19b",
   "metadata": {
    "ExecuteTime": {
     "end_time": "2023-10-13T10:08:10.066340Z",
     "start_time": "2023-10-13T10:08:10.051686Z"
    }
   },
   "outputs": [],
   "source": [
    "job_titles, companies, locations, descriptions, times = [],[],[],[],[]\n",
    "\n",
    "for job in jobs:\n",
    "    job_title = job.find('div', class_='res-nehv70').text\n",
    "    job_titles.append(job_title)\n",
    "    \n",
    "    company = job.find('span', class_='res-btchsq')\n",
    "    companies.append(company.text)\n",
    "    \n",
    "    location = company.find_next('span', class_='res-btchsq')\n",
    "    locations.append(location.text)\n",
    "    \n",
    "    description = job.find('div', class_='res-1d1eotm')\n",
    "    descriptions.append(description.text)\n",
    "    \n",
    "    #time_element =  soup.find('time')\n",
    "    #times.append(time_element['datetime'])\n",
    "    \n",
    "### the descritions are cut at some point.\n",
    "### i think it is needed to follow the given url to get to the entire description"
   ]
  },
  {
   "cell_type": "code",
   "execution_count": 9,
   "id": "57235b1b",
   "metadata": {
    "ExecuteTime": {
     "end_time": "2023-10-13T10:08:10.077814Z",
     "start_time": "2023-10-13T10:08:10.068896Z"
    }
   },
   "outputs": [
    {
     "data": {
      "text/plain": [
       "<time class=\"\">vor 1 Tag</time>"
      ]
     },
     "execution_count": 9,
     "metadata": {},
     "output_type": "execute_result"
    }
   ],
   "source": [
    "#soup.find('span', class_='res-9ochkb')\n",
    "soup.find('time')\n",
    "\n",
    "### no idea how, but i somehow lost the datetime attribute"
   ]
  },
  {
   "cell_type": "code",
   "execution_count": 10,
   "id": "2e527b87",
   "metadata": {
    "ExecuteTime": {
     "end_time": "2023-10-13T10:08:10.084682Z",
     "start_time": "2023-10-13T10:08:10.082421Z"
    }
   },
   "outputs": [],
   "source": [
    "#soup.time.attrs['datetime']"
   ]
  },
  {
   "cell_type": "code",
   "execution_count": 11,
   "id": "ad4296f9",
   "metadata": {
    "ExecuteTime": {
     "end_time": "2023-10-13T10:08:10.089708Z",
     "start_time": "2023-10-13T10:08:10.086538Z"
    }
   },
   "outputs": [],
   "source": [
    "#t= soup.find('time', {'datetime': True})"
   ]
  },
  {
   "cell_type": "code",
   "execution_count": 12,
   "id": "ad3c5b1c",
   "metadata": {
    "ExecuteTime": {
     "end_time": "2023-10-13T10:08:10.095073Z",
     "start_time": "2023-10-13T10:08:10.092644Z"
    }
   },
   "outputs": [],
   "source": [
    "#print(t)"
   ]
  },
  {
   "cell_type": "code",
   "execution_count": 13,
   "id": "509315f6",
   "metadata": {
    "ExecuteTime": {
     "end_time": "2023-10-13T10:08:10.105405Z",
     "start_time": "2023-10-13T10:08:10.099698Z"
    }
   },
   "outputs": [],
   "source": [
    "### creating dataframe out of data"
   ]
  },
  {
   "cell_type": "code",
   "execution_count": null,
   "id": "2b0058be",
   "metadata": {},
   "outputs": [],
   "source": []
  },
  {
   "cell_type": "code",
   "execution_count": null,
   "id": "51226420",
   "metadata": {},
   "outputs": [],
   "source": []
  },
  {
   "cell_type": "code",
   "execution_count": null,
   "id": "612af0eb",
   "metadata": {},
   "outputs": [],
   "source": []
  },
  {
   "cell_type": "code",
   "execution_count": null,
   "id": "634a7774",
   "metadata": {},
   "outputs": [],
   "source": []
  },
  {
   "cell_type": "code",
   "execution_count": null,
   "id": "38d84ea0",
   "metadata": {},
   "outputs": [],
   "source": []
  },
  {
   "cell_type": "code",
   "execution_count": 14,
   "id": "193138bc",
   "metadata": {
    "ExecuteTime": {
     "end_time": "2023-10-13T10:08:10.113016Z",
     "start_time": "2023-10-13T10:08:10.109479Z"
    }
   },
   "outputs": [],
   "source": [
    "html = \"\"\"\n",
    "<html>\n",
    "<head></head>\n",
    "<body>\n",
    "    <div class=\"content\">\n",
    "        <p datetime=\"2023-10-13T12:00:00Z\">Sample Date</p>\n",
    "    </div>\n",
    "</body>\n",
    "</html>\n",
    "\"\"\""
   ]
  },
  {
   "cell_type": "code",
   "execution_count": 15,
   "id": "c960a2cc",
   "metadata": {
    "ExecuteTime": {
     "end_time": "2023-10-13T10:08:10.119851Z",
     "start_time": "2023-10-13T10:08:10.115403Z"
    }
   },
   "outputs": [],
   "source": [
    "soup = bs(html, 'html.parser')"
   ]
  },
  {
   "cell_type": "code",
   "execution_count": 16,
   "id": "4ca693e0",
   "metadata": {
    "ExecuteTime": {
     "end_time": "2023-10-13T10:08:10.130386Z",
     "start_time": "2023-10-13T10:08:10.122466Z"
    }
   },
   "outputs": [
    {
     "data": {
      "text/plain": [
       "<p datetime=\"2023-10-13T12:00:00Z\">Sample Date</p>"
      ]
     },
     "execution_count": 16,
     "metadata": {},
     "output_type": "execute_result"
    }
   ],
   "source": [
    "soup.find('p', {'datetime': True})"
   ]
  },
  {
   "cell_type": "code",
   "execution_count": null,
   "id": "c5ffbbd8",
   "metadata": {},
   "outputs": [],
   "source": []
  },
  {
   "cell_type": "code",
   "execution_count": null,
   "id": "b57c97f0",
   "metadata": {},
   "outputs": [],
   "source": []
  },
  {
   "cell_type": "code",
   "execution_count": null,
   "id": "7ebdbb74",
   "metadata": {},
   "outputs": [],
   "source": []
  }
 ],
 "metadata": {
  "kernelspec": {
   "display_name": "Python 3 (ipykernel)",
   "language": "python",
   "name": "python3"
  },
  "language_info": {
   "codemirror_mode": {
    "name": "ipython",
    "version": 3
   },
   "file_extension": ".py",
   "mimetype": "text/x-python",
   "name": "python",
   "nbconvert_exporter": "python",
   "pygments_lexer": "ipython3",
   "version": "3.10.0"
  },
  "toc": {
   "base_numbering": 1,
   "nav_menu": {},
   "number_sections": true,
   "sideBar": true,
   "skip_h1_title": false,
   "title_cell": "Table of Contents",
   "title_sidebar": "Contents",
   "toc_cell": false,
   "toc_position": {},
   "toc_section_display": true,
   "toc_window_display": false
  },
  "varInspector": {
   "cols": {
    "lenName": 16,
    "lenType": 16,
    "lenVar": 40
   },
   "kernels_config": {
    "python": {
     "delete_cmd_postfix": "",
     "delete_cmd_prefix": "del ",
     "library": "var_list.py",
     "varRefreshCmd": "print(var_dic_list())"
    },
    "r": {
     "delete_cmd_postfix": ") ",
     "delete_cmd_prefix": "rm(",
     "library": "var_list.r",
     "varRefreshCmd": "cat(var_dic_list()) "
    }
   },
   "types_to_exclude": [
    "module",
    "function",
    "builtin_function_or_method",
    "instance",
    "_Feature"
   ],
   "window_display": false
  }
 },
 "nbformat": 4,
 "nbformat_minor": 5
}
