{
 "cells": [
  {
   "cell_type": "code",
   "execution_count": 1,
   "id": "23a4d7af",
   "metadata": {
    "ExecuteTime": {
     "end_time": "2023-10-10T13:51:53.460085Z",
     "start_time": "2023-10-10T13:51:53.040328Z"
    }
   },
   "outputs": [],
   "source": [
    "### import libraries\n",
    "\n",
    "from bs4 import BeautifulSoup as bs\n",
    "import requests\n",
    "import pandas as pd"
   ]
  },
  {
   "cell_type": "code",
   "execution_count": 2,
   "id": "83f9ffe5",
   "metadata": {
    "ExecuteTime": {
     "end_time": "2023-10-10T13:51:53.720120Z",
     "start_time": "2023-10-10T13:51:53.463728Z"
    }
   },
   "outputs": [],
   "source": [
    "### request html code\n",
    "\n",
    "url = 'https://www.stepstone.de/jobs/data-engineer/in-berlin?radius=5'\n",
    "headers = {'User-Agent': 'Mozilla/5.0 (Macintosh; Intel Mac OS X 10.10; rv:39.0)'}\n",
    "\n",
    "response = requests.get(url, headers=headers)"
   ]
  },
  {
   "cell_type": "code",
   "execution_count": 3,
   "id": "258eea3d",
   "metadata": {
    "ExecuteTime": {
     "end_time": "2023-10-10T13:51:53.732721Z",
     "start_time": "2023-10-10T13:51:53.723747Z"
    }
   },
   "outputs": [
    {
     "data": {
      "text/plain": [
       "<Response [200]>"
      ]
     },
     "execution_count": 3,
     "metadata": {},
     "output_type": "execute_result"
    }
   ],
   "source": [
    "response"
   ]
  },
  {
   "cell_type": "code",
   "execution_count": 4,
   "id": "93be130d",
   "metadata": {
    "ExecuteTime": {
     "end_time": "2023-10-10T13:51:53.915237Z",
     "start_time": "2023-10-10T13:51:53.737004Z"
    }
   },
   "outputs": [],
   "source": [
    "### parse response with beautiful soup\n",
    "\n",
    "soup = bs(response.content, \"html.parser\")"
   ]
  },
  {
   "cell_type": "code",
   "execution_count": 6,
   "id": "235a917d",
   "metadata": {
    "ExecuteTime": {
     "end_time": "2023-10-10T13:53:16.600984Z",
     "start_time": "2023-10-10T13:53:16.593562Z"
    }
   },
   "outputs": [
    {
     "data": {
      "text/plain": [
       "<title>Data Engineer Jobs und Stellenangebote in Berlin - 2023</title>"
      ]
     },
     "execution_count": 6,
     "metadata": {},
     "output_type": "execute_result"
    }
   ],
   "source": [
    "soup.title"
   ]
  },
  {
   "cell_type": "code",
   "execution_count": 7,
   "id": "8d999df8",
   "metadata": {
    "ExecuteTime": {
     "end_time": "2023-10-10T13:53:37.770077Z",
     "start_time": "2023-10-10T13:53:37.750464Z"
    }
   },
   "outputs": [
    {
     "data": {
      "text/plain": [
       "<p class=\"job-agent-frontend-apps-7u2yuf\" data-genesis-element=\"TEXT\">Schickt mir neue Jobs per E-Mail.</p>"
      ]
     },
     "execution_count": 7,
     "metadata": {},
     "output_type": "execute_result"
    }
   ],
   "source": [
    "soup.p"
   ]
  },
  {
   "cell_type": "code",
   "execution_count": 8,
   "id": "b0ce1f9b",
   "metadata": {
    "ExecuteTime": {
     "end_time": "2023-10-10T13:54:06.452573Z",
     "start_time": "2023-10-10T13:54:06.445487Z"
    }
   },
   "outputs": [
    {
     "data": {
      "text/plain": [
       "<a aria-label=\"core-logo\" class=\"hf-provider-1o9vagn\" data-genesis-element=\"BASE\" data-testid=\"logo\" href=\"/de\"></a>"
      ]
     },
     "execution_count": 8,
     "metadata": {},
     "output_type": "execute_result"
    }
   ],
   "source": [
    "soup.a"
   ]
  },
  {
   "cell_type": "code",
   "execution_count": null,
   "id": "621e290a",
   "metadata": {
    "ExecuteTime": {
     "end_time": "2023-10-10T13:54:24.333378Z",
     "start_time": "2023-10-10T13:54:24.280113Z"
    }
   },
   "outputs": [],
   "source": []
  },
  {
   "cell_type": "code",
   "execution_count": null,
   "id": "dd86b953",
   "metadata": {},
   "outputs": [],
   "source": []
  },
  {
   "cell_type": "code",
   "execution_count": null,
   "id": "fc10ffa5",
   "metadata": {},
   "outputs": [],
   "source": []
  }
 ],
 "metadata": {
  "kernelspec": {
   "display_name": "Python 3 (ipykernel)",
   "language": "python",
   "name": "python3"
  },
  "language_info": {
   "codemirror_mode": {
    "name": "ipython",
    "version": 3
   },
   "file_extension": ".py",
   "mimetype": "text/x-python",
   "name": "python",
   "nbconvert_exporter": "python",
   "pygments_lexer": "ipython3",
   "version": "3.10.0"
  },
  "toc": {
   "base_numbering": 1,
   "nav_menu": {},
   "number_sections": true,
   "sideBar": true,
   "skip_h1_title": false,
   "title_cell": "Table of Contents",
   "title_sidebar": "Contents",
   "toc_cell": false,
   "toc_position": {},
   "toc_section_display": true,
   "toc_window_display": false
  },
  "varInspector": {
   "cols": {
    "lenName": 16,
    "lenType": 16,
    "lenVar": 40
   },
   "kernels_config": {
    "python": {
     "delete_cmd_postfix": "",
     "delete_cmd_prefix": "del ",
     "library": "var_list.py",
     "varRefreshCmd": "print(var_dic_list())"
    },
    "r": {
     "delete_cmd_postfix": ") ",
     "delete_cmd_prefix": "rm(",
     "library": "var_list.r",
     "varRefreshCmd": "cat(var_dic_list()) "
    }
   },
   "types_to_exclude": [
    "module",
    "function",
    "builtin_function_or_method",
    "instance",
    "_Feature"
   ],
   "window_display": false
  }
 },
 "nbformat": 4,
 "nbformat_minor": 5
}
