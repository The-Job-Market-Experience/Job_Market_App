{
 "cells": [
  {
   "cell_type": "code",
   "execution_count": 1,
   "id": "8bb3e2b5",
   "metadata": {
    "ExecuteTime": {
     "end_time": "2023-10-11T16:38:47.944784Z",
     "start_time": "2023-10-11T16:38:45.460858Z"
    }
   },
   "outputs": [],
   "source": [
    "### import libraries\n",
    "\n",
    "from bs4 import BeautifulSoup as bs\n",
    "import requests\n",
    "import pandas as pd"
   ]
  },
  {
   "cell_type": "code",
   "execution_count": 2,
   "id": "189e12b3",
   "metadata": {
    "ExecuteTime": {
     "end_time": "2023-10-11T16:39:13.393706Z",
     "start_time": "2023-10-11T16:39:11.463807Z"
    }
   },
   "outputs": [],
   "source": [
    "### request html code\n",
    "### english language and germany. otherwise no parameter\n",
    "\n",
    "url = 'https://www.stepstone.de/jobs/in-germany?radius=30&action=facet_selected%3bdetectedLanguages%3ben&fdl=en'\n",
    "headers = {'User-Agent': 'Mozilla/5.0 (Macintosh; Intel Mac OS X 10.10; rv:39.0)'}\n",
    "\n",
    "response = requests.get(url, headers=headers)"
   ]
  },
  {
   "cell_type": "code",
   "execution_count": 3,
   "id": "8577a0e0",
   "metadata": {
    "ExecuteTime": {
     "end_time": "2023-10-11T16:39:15.118646Z",
     "start_time": "2023-10-11T16:39:15.108866Z"
    }
   },
   "outputs": [
    {
     "data": {
      "text/plain": [
       "<Response [200]>"
      ]
     },
     "execution_count": 3,
     "metadata": {},
     "output_type": "execute_result"
    }
   ],
   "source": [
    "response"
   ]
  },
  {
   "cell_type": "code",
   "execution_count": 4,
   "id": "9309f82e",
   "metadata": {
    "ExecuteTime": {
     "end_time": "2023-10-11T16:39:17.626057Z",
     "start_time": "2023-10-11T16:39:17.448066Z"
    }
   },
   "outputs": [],
   "source": [
    "### parse response with beautiful soup\n",
    "\n",
    "soup = bs(response.content, \"html.parser\")"
   ]
  },
  {
   "cell_type": "code",
   "execution_count": 5,
   "id": "7e760488",
   "metadata": {
    "ExecuteTime": {
     "end_time": "2023-10-11T16:39:20.336376Z",
     "start_time": "2023-10-11T16:39:20.327755Z"
    }
   },
   "outputs": [
    {
     "data": {
      "text/plain": [
       "<title>Aktuelle Jobs und Stellenangebote in Germany - Oktober 2023</title>"
      ]
     },
     "execution_count": 5,
     "metadata": {},
     "output_type": "execute_result"
    }
   ],
   "source": [
    "soup.title"
   ]
  },
  {
   "cell_type": "code",
   "execution_count": 7,
   "id": "4522f0eb",
   "metadata": {
    "ExecuteTime": {
     "end_time": "2023-10-11T16:42:56.054841Z",
     "start_time": "2023-10-11T16:42:56.046638Z"
    }
   },
   "outputs": [
    {
     "data": {
      "text/plain": [
       "''"
      ]
     },
     "execution_count": 7,
     "metadata": {},
     "output_type": "execute_result"
    }
   ],
   "source": [
    "soup.find('a').text"
   ]
  },
  {
   "cell_type": "code",
   "execution_count": 8,
   "id": "a2a32d47",
   "metadata": {
    "ExecuteTime": {
     "end_time": "2023-10-10T13:54:06.452573Z",
     "start_time": "2023-10-10T13:54:06.445487Z"
    }
   },
   "outputs": [
    {
     "data": {
      "text/plain": [
       "<a aria-label=\"core-logo\" class=\"hf-provider-1o9vagn\" data-genesis-element=\"BASE\" data-testid=\"logo\" href=\"/de\"></a>"
      ]
     },
     "execution_count": 8,
     "metadata": {},
     "output_type": "execute_result"
    }
   ],
   "source": [
    "soup.a"
   ]
  },
  {
   "cell_type": "code",
   "execution_count": null,
   "id": "beaaa19b",
   "metadata": {
    "ExecuteTime": {
     "end_time": "2023-10-10T13:54:24.333378Z",
     "start_time": "2023-10-10T13:54:24.280113Z"
    }
   },
   "outputs": [],
   "source": [
    "soup.t"
   ]
  },
  {
   "cell_type": "code",
   "execution_count": null,
   "id": "d2c15a2c",
   "metadata": {},
   "outputs": [],
   "source": []
  },
  {
   "cell_type": "code",
   "execution_count": null,
   "id": "574e5e65",
   "metadata": {},
   "outputs": [],
   "source": []
  }
 ],
 "metadata": {
  "kernelspec": {
   "display_name": "Python 3 (ipykernel)",
   "language": "python",
   "name": "python3"
  },
  "language_info": {
   "codemirror_mode": {
    "name": "ipython",
    "version": 3
   },
   "file_extension": ".py",
   "mimetype": "text/x-python",
   "name": "python",
   "nbconvert_exporter": "python",
   "pygments_lexer": "ipython3",
   "version": "3.10.0"
  },
  "toc": {
   "base_numbering": 1,
   "nav_menu": {},
   "number_sections": true,
   "sideBar": true,
   "skip_h1_title": false,
   "title_cell": "Table of Contents",
   "title_sidebar": "Contents",
   "toc_cell": false,
   "toc_position": {},
   "toc_section_display": true,
   "toc_window_display": false
  },
  "varInspector": {
   "cols": {
    "lenName": 16,
    "lenType": 16,
    "lenVar": 40
   },
   "kernels_config": {
    "python": {
     "delete_cmd_postfix": "",
     "delete_cmd_prefix": "del ",
     "library": "var_list.py",
     "varRefreshCmd": "print(var_dic_list())"
    },
    "r": {
     "delete_cmd_postfix": ") ",
     "delete_cmd_prefix": "rm(",
     "library": "var_list.r",
     "varRefreshCmd": "cat(var_dic_list()) "
    }
   },
   "types_to_exclude": [
    "module",
    "function",
    "builtin_function_or_method",
    "instance",
    "_Feature"
   ],
   "window_display": false
  }
 },
 "nbformat": 4,
 "nbformat_minor": 5
}
