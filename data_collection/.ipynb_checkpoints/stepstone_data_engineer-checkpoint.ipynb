{
 "cells": [
  {
   "cell_type": "code",
   "execution_count": 1,
   "id": "43e6a654",
   "metadata": {
    "ExecuteTime": {
     "end_time": "2023-10-09T21:43:11.228134Z",
     "start_time": "2023-10-09T21:43:10.576397Z"
    }
   },
   "outputs": [],
   "source": [
    "from bs4 import BeautifulSoup as bs\n",
    "import requests\n",
    "\n",
    "import pandas as pd"
   ]
  },
  {
   "cell_type": "code",
   "execution_count": 2,
   "id": "6c2b443a",
   "metadata": {
    "ExecuteTime": {
     "end_time": "2023-10-09T21:43:11.234116Z",
     "start_time": "2023-10-09T21:43:11.231539Z"
    }
   },
   "outputs": [],
   "source": [
    "### after checking on postman "
   ]
  },
  {
   "cell_type": "code",
   "execution_count": null,
   "id": "ae6f6a10",
   "metadata": {
    "ExecuteTime": {
     "start_time": "2023-10-09T21:43:10.577Z"
    }
   },
   "outputs": [],
   "source": [
    "url = \"https://www.stepstone.de/jobs/data-engineer/in-berlin?radius=5\"\n",
    "\n",
    "payload = {}\n",
    "headers = {\n",
    "  'Cookie': 'VISITOR_ID=a2315293dafaaada77ed42a1d52d97b4; _abck=BB494D797D084F4D672B86250504CEFB~-1~YAAQzNXOF2L66BWLAQAAicpAFgrtukVNXt8Nb1B+Qr7DW0IUt/6TxoV9zDoeEa64T/4R766WsMkymZfUSZOwsBktiZQOIhYhmC9ldwL4uAUqIRg+rUdITccZdQCVcvCuDJilWycVUBf4sKEn+DpgjmHm+8m/J567/WvpKg2Xk0so4bjOeJSdjqD07R+9x7/4RhhRKWgJL6XvBksM0WHEBRm26ijbSOAh//rxB9qLxC8PB8HBhKT6gOcQDzh3BNfgooIrlnQ815NBsQ3Y7h4XMFRtilpdYvL7tSXPIJDbPiRJkEJ6h40jkfybsLaEy/pRzdthls98e8g8elkmLd6zgjc/BNr8IqgA0T0WtqLODCZPZxovfcoukDdxRQ==~-1~-1~-1; ak_bmsc=3279A1AAEAB58A47A760C45078098D5C~000000000000000000000000000000~YAAQzNXOF2P66BWLAQAAicpAFhWGnQfPBuN+SoG9NkbhiOHQbJErUxgBStrYFsSh7cDYK56Wx+SoY8j/Iru9jwM/z+c9QdwOX5bCr5wTbHRrAHAFism/KYq4tRuKhzLFlyeUdX5uqMFmnS2MHyIfegR+mTmoCkYP4DK4L/EoH/RFkbMyiUb5y4fObHbeC+MOU0fS+5uWeCwIoAW0CNrdkiXF1Ce3egVj54x0U7hJBGA0BdKcsLbsb6+3jwPUlS/Kna5chewC435im5ci5iovzSPpYqgMWOk9jEN/FRoN26lLEDibY+szBe045DQCjbOe6pNAx+lJpGLFQPi4qN9DZ6Q8Bog+00z0JAIUd5dixOvJOFGCe2iCHSQv8C5Mq58=; bm_mi=040F3C79FEF9F9C1A187656046E06BBF~YAAQzNXOF4yX8xWLAQAAWeZjFhWk+9cCcHdvZ3XS0GoWjKUefgd5vrX4zX5SRSQ2pif/ZdWkONoJhFduicbqUC9JVRLY6CjAvtIfXyJQSAJpy/qbtEGowzHe2M/4fCmF5/xmlcVavWAFf42/bdgdUEDKV1Wy2zP1usxZAoLYcq7nanBHcm1naanEGGz8bRdUxrmcesqZ5r0skOp+JmEaTvIJaA52N6oo0Rbfhhr20r9r2KwPxUCRvEvRY3M9ArqorcsoxZQzaM0dOSZ8zlKeplKd9CX0152VHQ96tq6foh/UCAEeI6MbMG/sXGYFHvQx+VFMYsbSELzs4qp/WGizhH61lIv8m/uUbViquA==~1; bm_sv=FCB72FF7D8E34CDD8FA6816FC2CB87B1~YAAQzNXOF42X8xWLAQAAWeZjFhVA2JctKV6GAZjvcBxN7GjCzOxWYTRkfPQ5RU5i5iqHPEGAC1EXL6CwfYfHxgAYGUBzarHNs+4WxHn/0bhIfNf7tZlzcWh2yaiUN94itwscfguOKrU86SQ5e+qCXUkxQp+qORzOV7Rt+HPhI0faPgLKiYM/rVzJZBMR8hP1bMY0YyAAnN3bA/v4ligfqeWWDA9HQuJkGR7SnYjVF5k7kGPzZtxkXAm9Y9QEdKqNt+o=~1; bm_sz=F00613A11776820C102F9F57CAF1CBC3~YAAQzNXOF2X66BWLAQAAicpAFhUBq/vds9Q9uT60EDwpW9QZU8WrA59dBvwQdbsFMFXaWApoJQDFga0pgD9ggMK2UqdEiaxrFX6C4AANcM7e2u0w4ucJjBT+hUkiQ7lhSbNUpUI7sO98NOpZbiBv4iFXNTRd3Qpc6icKjS7/NIOgG5/IxsyifWFSabWGdwp9zct+L4ok0JPhy5RuJznQs2RF9n5oRjyTpzgPigNUZaK3vsez2Tc53WzMz2+4AcnbJcyaGFxrPXhu6BAQ9vxS+ddKmt8/SFAjI+SRyYWb3bANYqH2jA==~3224113~3491127'\n",
    "}\n",
    "\n",
    "response = requests.request(\"GET\", url, headers=headers, data=payload)\n",
    "\n",
    "#print(response.text)\n"
   ]
  },
  {
   "cell_type": "code",
   "execution_count": null,
   "id": "25b9b16d",
   "metadata": {
    "ExecuteTime": {
     "start_time": "2023-10-09T21:43:10.578Z"
    }
   },
   "outputs": [],
   "source": [
    "response"
   ]
  },
  {
   "cell_type": "code",
   "execution_count": null,
   "id": "e5c1b221",
   "metadata": {
    "ExecuteTime": {
     "start_time": "2023-10-09T21:43:10.580Z"
    }
   },
   "outputs": [],
   "source": [
    "data = response.json()"
   ]
  },
  {
   "cell_type": "code",
   "execution_count": null,
   "id": "88edc575",
   "metadata": {},
   "outputs": [],
   "source": []
  }
 ],
 "metadata": {
  "kernelspec": {
   "display_name": "Python 3 (ipykernel)",
   "language": "python",
   "name": "python3"
  },
  "language_info": {
   "codemirror_mode": {
    "name": "ipython",
    "version": 3
   },
   "file_extension": ".py",
   "mimetype": "text/x-python",
   "name": "python",
   "nbconvert_exporter": "python",
   "pygments_lexer": "ipython3",
   "version": "3.10.0"
  },
  "toc": {
   "base_numbering": 1,
   "nav_menu": {},
   "number_sections": true,
   "sideBar": true,
   "skip_h1_title": false,
   "title_cell": "Table of Contents",
   "title_sidebar": "Contents",
   "toc_cell": false,
   "toc_position": {},
   "toc_section_display": true,
   "toc_window_display": false
  },
  "varInspector": {
   "cols": {
    "lenName": 16,
    "lenType": 16,
    "lenVar": 40
   },
   "kernels_config": {
    "python": {
     "delete_cmd_postfix": "",
     "delete_cmd_prefix": "del ",
     "library": "var_list.py",
     "varRefreshCmd": "print(var_dic_list())"
    },
    "r": {
     "delete_cmd_postfix": ") ",
     "delete_cmd_prefix": "rm(",
     "library": "var_list.r",
     "varRefreshCmd": "cat(var_dic_list()) "
    }
   },
   "types_to_exclude": [
    "module",
    "function",
    "builtin_function_or_method",
    "instance",
    "_Feature"
   ],
   "window_display": false
  }
 },
 "nbformat": 4,
 "nbformat_minor": 5
}
