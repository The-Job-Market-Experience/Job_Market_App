{
 "cells": [
  {
   "cell_type": "code",
   "execution_count": 28,
   "id": "8bb3e2b5",
   "metadata": {
    "ExecuteTime": {
     "end_time": "2023-10-13T09:48:07.098312Z",
     "start_time": "2023-10-13T09:48:07.092439Z"
    }
   },
   "outputs": [],
   "source": [
    "### import libraries\n",
    "\n",
    "from bs4 import BeautifulSoup as bs\n",
    "import requests\n",
    "import pandas as pd\n",
    "import numpy as np\n",
    "\n",
    "import datetime"
   ]
  },
  {
   "cell_type": "code",
   "execution_count": 29,
   "id": "189e12b3",
   "metadata": {
    "ExecuteTime": {
     "end_time": "2023-10-13T09:48:08.073039Z",
     "start_time": "2023-10-13T09:48:07.801452Z"
    }
   },
   "outputs": [],
   "source": [
    "### request html code\n",
    "### english language and germany. otherwise no parameter\n",
    "\n",
    "url = 'https://www.stepstone.de/jobs/in-germany?radius=30&action=facet_selected%3bdetectedLanguages%3ben&fdl=en'\n",
    "headers = {'User-Agent': 'Mozilla/5.0 (Macintosh; Intel Mac OS X 10.10; rv:39.0)'}\n",
    "\n",
    "response = requests.get(url, headers=headers)"
   ]
  },
  {
   "cell_type": "code",
   "execution_count": 30,
   "id": "8577a0e0",
   "metadata": {
    "ExecuteTime": {
     "end_time": "2023-10-13T09:48:08.789564Z",
     "start_time": "2023-10-13T09:48:08.783021Z"
    }
   },
   "outputs": [
    {
     "data": {
      "text/plain": [
       "<Response [200]>"
      ]
     },
     "execution_count": 30,
     "metadata": {},
     "output_type": "execute_result"
    }
   ],
   "source": [
    "response"
   ]
  },
  {
   "cell_type": "code",
   "execution_count": 31,
   "id": "9309f82e",
   "metadata": {
    "ExecuteTime": {
     "end_time": "2023-10-13T09:48:09.912193Z",
     "start_time": "2023-10-13T09:48:09.803889Z"
    }
   },
   "outputs": [],
   "source": [
    "### parse response with beautiful soup\n",
    "\n",
    "soup = bs(response.content, 'lxml')"
   ]
  },
  {
   "cell_type": "code",
   "execution_count": 32,
   "id": "7e760488",
   "metadata": {
    "ExecuteTime": {
     "end_time": "2023-10-13T09:48:11.134839Z",
     "start_time": "2023-10-13T09:48:11.126825Z"
    }
   },
   "outputs": [
    {
     "data": {
      "text/plain": [
       "<title>Aktuelle Jobs und Stellenangebote in Germany - Oktober 2023</title>"
      ]
     },
     "execution_count": 32,
     "metadata": {},
     "output_type": "execute_result"
    }
   ],
   "source": [
    "soup.title"
   ]
  },
  {
   "cell_type": "code",
   "execution_count": 25,
   "id": "4522f0eb",
   "metadata": {
    "ExecuteTime": {
     "end_time": "2023-10-13T09:46:26.215209Z",
     "start_time": "2023-10-13T09:46:26.202512Z"
    }
   },
   "outputs": [],
   "source": [
    "### job block, displayed on landing page for each job offer\n",
    "jobs = soup.find_all('article', class_='res-j5y1mq')"
   ]
  },
  {
   "cell_type": "code",
   "execution_count": 26,
   "id": "6bfcdbbe",
   "metadata": {
    "ExecuteTime": {
     "end_time": "2023-10-13T09:46:32.698233Z",
     "start_time": "2023-10-13T09:46:32.691398Z"
    }
   },
   "outputs": [
    {
     "data": {
      "text/plain": [
       "25"
      ]
     },
     "execution_count": 26,
     "metadata": {},
     "output_type": "execute_result"
    }
   ],
   "source": [
    "len(jobs)"
   ]
  },
  {
   "cell_type": "code",
   "execution_count": 12,
   "id": "beaaa19b",
   "metadata": {
    "ExecuteTime": {
     "end_time": "2023-10-13T09:39:14.273691Z",
     "start_time": "2023-10-13T09:39:14.248139Z"
    }
   },
   "outputs": [],
   "source": [
    "job_titles, companies, locations, descriptions, times = [],[],[],[],[]\n",
    "\n",
    "for job in jobs:\n",
    "    job_title = job.find('div', class_='res-nehv70').text\n",
    "    job_titles.append(job_title)\n",
    "    \n",
    "    company = job.find('span', class_='res-btchsq')\n",
    "    companies.append(company.text)\n",
    "    \n",
    "    location = company.find_next('span', class_='res-btchsq')\n",
    "    locations.append(location.text)\n",
    "    \n",
    "    description = job.find('div', class_='res-1d1eotm')\n",
    "    descriptions.append(description.text)\n",
    "    \n",
    "    #time_element =  soup.find('time')\n",
    "    #times.append(time_element['datetime'])\n",
    "    \n",
    "### the descritions are cut at some point.\n",
    "### i think it is needed to follow the given url to get to the entire description"
   ]
  },
  {
   "cell_type": "code",
   "execution_count": 33,
   "id": "57235b1b",
   "metadata": {
    "ExecuteTime": {
     "end_time": "2023-10-13T09:48:15.768881Z",
     "start_time": "2023-10-13T09:48:15.746735Z"
    }
   },
   "outputs": [
    {
     "data": {
      "text/plain": [
       "<time class=\"\">vor 1 Tag</time>"
      ]
     },
     "execution_count": 33,
     "metadata": {},
     "output_type": "execute_result"
    }
   ],
   "source": [
    "soup.find('span', class_='res-9ochkb')\n",
    "soup.find('time')"
   ]
  },
  {
   "cell_type": "code",
   "execution_count": 19,
   "id": "2e527b87",
   "metadata": {
    "ExecuteTime": {
     "end_time": "2023-10-13T09:45:17.263951Z",
     "start_time": "2023-10-13T09:45:17.229750Z"
    }
   },
   "outputs": [
    {
     "ename": "KeyError",
     "evalue": "'datetime'",
     "output_type": "error",
     "traceback": [
      "\u001b[0;31m---------------------------------------------------------------------------\u001b[0m",
      "\u001b[0;31mKeyError\u001b[0m                                  Traceback (most recent call last)",
      "Cell \u001b[0;32mIn[19], line 1\u001b[0m\n\u001b[0;32m----> 1\u001b[0m \u001b[43msoup\u001b[49m\u001b[38;5;241;43m.\u001b[39;49m\u001b[43mtime\u001b[49m\u001b[38;5;241;43m.\u001b[39;49m\u001b[43mattrs\u001b[49m\u001b[43m[\u001b[49m\u001b[38;5;124;43m'\u001b[39;49m\u001b[38;5;124;43mdatetime\u001b[39;49m\u001b[38;5;124;43m'\u001b[39;49m\u001b[43m]\u001b[49m\n",
      "\u001b[0;31mKeyError\u001b[0m: 'datetime'"
     ]
    }
   ],
   "source": [
    "soup.time.attrs['datetime']"
   ]
  },
  {
   "cell_type": "code",
   "execution_count": null,
   "id": "509315f6",
   "metadata": {
    "ExecuteTime": {
     "end_time": "2023-10-13T09:37:15.086338Z",
     "start_time": "2023-10-13T09:37:15.086318Z"
    }
   },
   "outputs": [],
   "source": [
    "### creating dataframe out of data"
   ]
  },
  {
   "cell_type": "code",
   "execution_count": null,
   "id": "193138bc",
   "metadata": {
    "ExecuteTime": {
     "end_time": "2023-10-13T09:38:26.966922Z",
     "start_time": "2023-10-13T09:38:26.957283Z"
    }
   },
   "outputs": [],
   "source": []
  },
  {
   "cell_type": "code",
   "execution_count": null,
   "id": "c960a2cc",
   "metadata": {},
   "outputs": [],
   "source": []
  }
 ],
 "metadata": {
  "kernelspec": {
   "display_name": "Python 3 (ipykernel)",
   "language": "python",
   "name": "python3"
  },
  "language_info": {
   "codemirror_mode": {
    "name": "ipython",
    "version": 3
   },
   "file_extension": ".py",
   "mimetype": "text/x-python",
   "name": "python",
   "nbconvert_exporter": "python",
   "pygments_lexer": "ipython3",
   "version": "3.10.0"
  },
  "toc": {
   "base_numbering": 1,
   "nav_menu": {},
   "number_sections": true,
   "sideBar": true,
   "skip_h1_title": false,
   "title_cell": "Table of Contents",
   "title_sidebar": "Contents",
   "toc_cell": false,
   "toc_position": {},
   "toc_section_display": true,
   "toc_window_display": false
  },
  "varInspector": {
   "cols": {
    "lenName": 16,
    "lenType": 16,
    "lenVar": 40
   },
   "kernels_config": {
    "python": {
     "delete_cmd_postfix": "",
     "delete_cmd_prefix": "del ",
     "library": "var_list.py",
     "varRefreshCmd": "print(var_dic_list())"
    },
    "r": {
     "delete_cmd_postfix": ") ",
     "delete_cmd_prefix": "rm(",
     "library": "var_list.r",
     "varRefreshCmd": "cat(var_dic_list()) "
    }
   },
   "types_to_exclude": [
    "module",
    "function",
    "builtin_function_or_method",
    "instance",
    "_Feature"
   ],
   "window_display": false
  }
 },
 "nbformat": 4,
 "nbformat_minor": 5
}
