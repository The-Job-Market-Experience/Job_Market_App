{
 "cells": [
  {
   "cell_type": "code",
   "execution_count": 27,
   "id": "8bb3e2b5",
   "metadata": {
    "ExecuteTime": {
     "end_time": "2023-10-30T21:18:33.238272Z",
     "start_time": "2023-10-30T21:18:33.233226Z"
    }
   },
   "outputs": [],
   "source": [
    "### import libraries\n",
    "\n",
    "from bs4 import BeautifulSoup as bs\n",
    "import requests\n",
    "from urllib.parse import urljoin\n",
    "import pandas as pd\n",
    "import numpy as np\n",
    "\n",
    "import datetime\n",
    "\n",
    "import json"
   ]
  },
  {
   "cell_type": "code",
   "execution_count": 28,
   "id": "cb9f5495",
   "metadata": {
    "ExecuteTime": {
     "end_time": "2023-10-30T21:18:35.150969Z",
     "start_time": "2023-10-30T21:18:35.145378Z"
    }
   },
   "outputs": [
    {
     "name": "stdout",
     "output_type": "stream",
     "text": [
      "the scraping starts at: 30/10/2023 22:18:35\n"
     ]
    }
   ],
   "source": [
    "### get current time\n",
    "\n",
    "now = datetime.datetime.now()\n",
    "\n",
    "# dd/mm/YY H:M:S\n",
    "dt_string = now.strftime(\"%d/%m/%Y %H:%M:%S\")\n",
    "print(\"the scraping starts at:\", dt_string)"
   ]
  },
  {
   "cell_type": "code",
   "execution_count": 29,
   "id": "189e12b3",
   "metadata": {
    "ExecuteTime": {
     "end_time": "2023-10-30T21:18:37.923523Z",
     "start_time": "2023-10-30T21:18:37.688396Z"
    }
   },
   "outputs": [],
   "source": [
    "### request html code\n",
    "### english language, data and germany. otherwise no parameter, sorted by publish date\n",
    "\n",
    "url = 'https://www.stepstone.de/jobs/data/in-germany?radius=30&sort=2&action=sort_publish'\n",
    "headers = {'User-Agent': 'Mozilla/5.0 (Macintosh; Intel Mac OS X 10.10; rv:39.0)'}\n",
    "\n",
    "response = requests.get(url, headers=headers)"
   ]
  },
  {
   "cell_type": "code",
   "execution_count": 30,
   "id": "9309f82e",
   "metadata": {
    "ExecuteTime": {
     "end_time": "2023-10-30T21:18:40.245453Z",
     "start_time": "2023-10-30T21:18:40.072686Z"
    }
   },
   "outputs": [],
   "source": [
    "### parse response with beautiful soup\n",
    "\n",
    "soup = bs(response.content, 'html.parser')"
   ]
  },
  {
   "cell_type": "code",
   "execution_count": 42,
   "id": "18b91024",
   "metadata": {
    "ExecuteTime": {
     "end_time": "2023-10-30T21:35:29.801677Z",
     "start_time": "2023-10-30T21:35:29.787844Z"
    }
   },
   "outputs": [],
   "source": [
    "## find and extract links to job offers\n",
    "\n",
    "job_offer_links = []\n",
    "links = soup.find_all(\"a\", class_=\"res-y456gn\")\n",
    "base_url = 'https://www.stepstone.de'\n",
    "\n",
    "for link in links:\n",
    "    job_url = link.get('href')\n",
    "    complete_job_url = urljoin(base_url, job_url)\n",
    "    job_offer_links.append(complete_job_url)"
   ]
  },
  {
   "cell_type": "code",
   "execution_count": 44,
   "id": "94b08063",
   "metadata": {
    "ExecuteTime": {
     "end_time": "2023-10-30T21:35:47.411560Z",
     "start_time": "2023-10-30T21:35:47.404670Z"
    }
   },
   "outputs": [
    {
     "data": {
      "text/plain": [
       "25"
      ]
     },
     "execution_count": 44,
     "metadata": {},
     "output_type": "execute_result"
    }
   ],
   "source": [
    "len(job_offer_links)"
   ]
  },
  {
   "cell_type": "code",
   "execution_count": 45,
   "id": "9eec41b5",
   "metadata": {
    "ExecuteTime": {
     "end_time": "2023-10-30T21:41:17.804900Z",
     "start_time": "2023-10-30T21:40:45.270858Z"
    }
   },
   "outputs": [
    {
     "name": "stdout",
     "output_type": "stream",
     "text": [
      "scraping following job post: https://www.stepstone.de/stellenangebote--Senior-Human-Resources-Specialist-German-Speaker-Muenchen-Marketplace-Hub--10140448-inline.html\n",
      "request status: 200\n",
      "scraping following job post: https://www.stepstone.de/stellenangebote--Manager-Product-Delivery-Global-Standards-m-w-d-Neu-Isenburg-Condor-Flugdienst-GmbH--10194459-inline.html\n",
      "request status: 200\n",
      "scraping following job post: https://www.stepstone.de/stellenangebote--Accounting-Manager-in-Finanzbuchhalter-in-m-w-d-im-innovativen-Umfeld-Duesseldorf-Koeln-Bonn-Oberhausen-Essen-Duisburg-Bochum-Internet-Value-GmbH--8919526-inline.html\n",
      "request status: 200\n",
      "scraping following job post: https://www.stepstone.de/stellenangebote--Junior-Business-Analyst-Supply-Chain-E-Commerce-m-w-d-Koeln-REWE--10194193-inline.html\n",
      "request status: 200\n",
      "scraping following job post: https://www.stepstone.de/stellenangebote--Fondscontroller-w-m-d-Raum-Koeln-InterSearch-Personalberatung-GmbH-Co-KG--10193885-inline.html\n",
      "request status: 200\n",
      "scraping following job post: https://www.stepstone.de/stellenangebote--Referentin-m-w-d-CRM-Hamburg-Hannover-Berlin-Stuttgart-Ulm-und-Muenchen-Volkswagen-Retail-Dienstleistungsgesellschaft-mbH--10193843-inline.html\n",
      "request status: 200\n",
      "scraping following job post: https://www.stepstone.de/stellenangebote--Junior-Key-Account-Manager-in-Ecommerce-Hamburg-BACARDI-GmbH--10193858-inline.html\n",
      "request status: 200\n",
      "scraping following job post: https://www.stepstone.de/stellenangebote--Senior-SEA-Manager-f-m-d-Berlin-iVentureGroup-GmbH--9409917-inline.html\n",
      "request status: 200\n",
      "scraping following job post: https://www.stepstone.de/stellenangebote--Data-Analyst-w-m-d-Hamburg-iVentureGroup-GmbH--9796151-inline.html\n",
      "request status: 200\n",
      "scraping following job post: https://www.stepstone.de/stellenangebote--Junior-SIEM-Security-Engineer-all-genders-Augsburg-Orange-Cyberdefense-Germany-GmbH--9522077-inline.html\n",
      "request status: 200\n",
      "scraping following job post: https://www.stepstone.de/stellenangebote--Mitarbeiter-m-w-d-Knowledge-Management-Frankfurt-am-Main-d-fine-GmbH--10193861-inline.html\n",
      "request status: 200\n",
      "scraping following job post: https://www.stepstone.de/stellenangebote--Gruppenleiter-Teamleiter-m-w-d-Forschung-Entwicklung-Grossraum-Stuttgart-Professional-Scientists-GmbH-Co-KG--10193666-inline.html\n",
      "request status: 200\n",
      "scraping following job post: https://www.stepstone.de/stellenangebote--SAP-Beraterin-Zoll-und-Aussenhandel-GTS-deutschlandweit-NTT-DATA-Business-Solutions-AG--9398120-inline.html\n",
      "request status: 200\n",
      "scraping following job post: https://www.stepstone.de/stellenangebote--Werkstudent-Data-Management-Business-Development-m-w-d-Muenchen-EGYM-Wellpass-GmbH--10192761-inline.html\n",
      "request status: 200\n",
      "scraping following job post: https://www.stepstone.de/stellenangebote--SAP-Beraterin-Lagerlogistik-EWM-deutschlandweit-NTT-DATA-Business-Solutions-AG--9398376-inline.html\n",
      "request status: 200\n",
      "scraping following job post: https://www.stepstone.de/stellenangebote--Consultant-Digitalisierung-und-Prozesse-Omnikanal-m-w-d-Karlsruhe-Muenster-Atruvia-AG--9716378-inline.html\n",
      "request status: 200\n",
      "scraping following job post: https://www.stepstone.de/stellenangebote--Mitarbeiter-Personalmanagement-m-w-d-Frankfurt-SERVODATA-GmbH--10090997-inline.html\n",
      "request status: 200\n",
      "scraping following job post: https://www.stepstone.de/stellenangebote--Werkstudent-w-m-d-Data-Strategy-and-Solutions-bundesweit-FIEGE-Logistik-Stiftung-Co-KG--10193418-inline.html\n",
      "request status: 200\n",
      "scraping following job post: https://www.stepstone.de/stellenangebote--Enterprise-Architect-for-Corporate-Technology-f-m-d-HR-Home-Office-Essen-Hannover-Wuerzburg-Muenchen-Berlin-Hamburg-Frankfurt-am-Main-E-ON-Digital-Technology-GmbH--10193320-inline.html\n",
      "request status: 200\n",
      "scraping following job post: https://www.stepstone.de/stellenangebote--Financial-Controller-m-f-d-Neu-Isenburg-DeLonghi-Deutschland-GmbH--10193029-inline.html\n",
      "request status: 200\n",
      "scraping following job post: https://www.stepstone.de/stellenangebote--Product-Manager-Revenue-Management-Systems-w-m-d-fuer-die-Marke-Mein-SchiffR-Hamburg-TUI-Cruises-GmbH--9863904-inline.html\n",
      "request status: 200\n",
      "scraping following job post: https://www.stepstone.de/stellenangebote--Softwareentwicklerinnen-Softwareentwickler-m-w-d-im-Bereich-Data-Warehouse-und-Business-Intelligence-Flensburg-Kraftfahrt-Bundesamt--10192968-inline.html\n",
      "request status: 200\n",
      "scraping following job post: https://www.stepstone.de/stellenangebote--DevOps-Engineer-m-w-d-AI-Platform-Berlin-Cornelsen-Verlag-GmbH--10193194-inline.html\n",
      "request status: 200\n",
      "scraping following job post: https://www.stepstone.de/stellenangebote--IT-Systemadministrator-m-w-d-Damme-Bremen-Lemfoerder-Logistik-GmbH--10192595-inline.html\n",
      "request status: 200\n",
      "scraping following job post: https://www.stepstone.de/stellenangebote--Product-Owner-B2B-Analytics-m-w-d-Muenchen-Maven360-GmbH--10192975-inline.html\n",
      "request status: 200\n"
     ]
    }
   ],
   "source": [
    "## parse and scrape from each job offer page\n",
    "job_titles, companies, locations, descriptions, times = [],[],[],[],[]\n",
    "\n",
    "for job_link in job_offer_links:\n",
    "    print(\"scraping following job post:\", job_link)\n",
    "    job_response = requests.get(job_link, headers = headers)\n",
    "    print(\"request status:\", job_response.status_code)\n",
    "    \n",
    "    job_soup = bs(job_response.text, 'html.parser')"
   ]
  },
  {
   "cell_type": "code",
   "execution_count": null,
   "id": "9443d557",
   "metadata": {},
   "outputs": [],
   "source": []
  },
  {
   "cell_type": "code",
   "execution_count": null,
   "id": "cc132bba",
   "metadata": {
    "ExecuteTime": {
     "end_time": "2023-10-29T18:02:13.809426Z",
     "start_time": "2023-10-29T18:02:13.564408Z"
    }
   },
   "outputs": [],
   "source": []
  },
  {
   "cell_type": "code",
   "execution_count": null,
   "id": "8dd9f402",
   "metadata": {
    "ExecuteTime": {
     "end_time": "2023-10-30T21:17:04.246771Z",
     "start_time": "2023-10-30T21:17:04.246749Z"
    }
   },
   "outputs": [],
   "source": [
    "sawdefrgthzj"
   ]
  },
  {
   "cell_type": "code",
   "execution_count": null,
   "id": "0aafac1b",
   "metadata": {
    "ExecuteTime": {
     "end_time": "2023-10-30T21:17:04.249043Z",
     "start_time": "2023-10-30T21:17:04.249022Z"
    }
   },
   "outputs": [],
   "source": [
    "job_listings = soup.find_all(\"article\", class_=\"res-j5y1mq\")"
   ]
  },
  {
   "cell_type": "code",
   "execution_count": null,
   "id": "6bfcdbbe",
   "metadata": {
    "ExecuteTime": {
     "end_time": "2023-10-30T21:17:04.250594Z",
     "start_time": "2023-10-30T21:17:04.250572Z"
    }
   },
   "outputs": [],
   "source": [
    "len(job_listings)"
   ]
  },
  {
   "cell_type": "code",
   "execution_count": null,
   "id": "c61a988f",
   "metadata": {
    "ExecuteTime": {
     "end_time": "2023-10-30T21:17:04.253239Z",
     "start_time": "2023-10-30T21:17:04.253214Z"
    }
   },
   "outputs": [],
   "source": [
    "job_listings"
   ]
  },
  {
   "cell_type": "code",
   "execution_count": null,
   "id": "958af5ed",
   "metadata": {
    "ExecuteTime": {
     "end_time": "2023-10-30T21:17:04.255474Z",
     "start_time": "2023-10-30T21:17:04.255458Z"
    }
   },
   "outputs": [],
   "source": [
    "job_titles = []\n",
    "for job in job_listings:\n",
    "    job_title = job_listings.find('div', class_='res-nehv70').text\n",
    "    job_titles.append(job_title)"
   ]
  },
  {
   "cell_type": "code",
   "execution_count": null,
   "id": "beaaa19b",
   "metadata": {
    "ExecuteTime": {
     "end_time": "2023-10-30T21:17:04.257423Z",
     "start_time": "2023-10-30T21:17:04.257404Z"
    }
   },
   "outputs": [],
   "source": [
    "job_titles, companies, locations, descriptions, times = [],[],[],[],[]\n",
    "\n",
    "for job in jobs:\n",
    "    job_title = job.find('div', class_='res-nehv70').text\n",
    "    job_titles.append(job_title)\n",
    "    \n",
    "    company = job.find('span', class_='res-btchsq')\n",
    "    companies.append(company.text)\n",
    "    \n",
    "    location = company.find_next('span', class_='res-btchsq')\n",
    "    locations.append(location.text)\n",
    "    \n",
    "    description = job.find('div', class_='res-1d1eotm')\n",
    "    descriptions.append(description.text)\n",
    "    \n",
    "    #time_element =  soup.find('time')\n",
    "    #times.append(time_element['datetime'])\n",
    "    \n",
    "### the descritions are cut at some point.\n",
    "### i think it is needed to follow the given url to get to the entire description"
   ]
  },
  {
   "cell_type": "code",
   "execution_count": null,
   "id": "98d606f2",
   "metadata": {
    "ExecuteTime": {
     "end_time": "2023-10-30T21:17:04.259936Z",
     "start_time": "2023-10-30T21:17:04.259914Z"
    }
   },
   "outputs": [],
   "source": [
    "t = soup.find('time')"
   ]
  },
  {
   "cell_type": "code",
   "execution_count": null,
   "id": "f1437824",
   "metadata": {
    "ExecuteTime": {
     "end_time": "2023-10-30T21:17:04.262077Z",
     "start_time": "2023-10-30T21:17:04.262054Z"
    }
   },
   "outputs": [],
   "source": [
    "t.text"
   ]
  },
  {
   "cell_type": "code",
   "execution_count": null,
   "id": "7b218bf9",
   "metadata": {
    "ExecuteTime": {
     "end_time": "2023-10-30T21:17:04.263994Z",
     "start_time": "2023-10-30T21:17:04.263970Z"
    }
   },
   "outputs": [],
   "source": [
    "now = datetime.datetime.now()"
   ]
  },
  {
   "cell_type": "code",
   "execution_count": null,
   "id": "a3f39d40",
   "metadata": {
    "ExecuteTime": {
     "end_time": "2023-10-30T21:17:04.266059Z",
     "start_time": "2023-10-30T21:17:04.266041Z"
    }
   },
   "outputs": [],
   "source": [
    "print(\"now =\", now)"
   ]
  },
  {
   "cell_type": "code",
   "execution_count": null,
   "id": "f8d443a0",
   "metadata": {
    "ExecuteTime": {
     "end_time": "2023-10-30T21:17:04.267572Z",
     "start_time": "2023-10-30T21:17:04.267553Z"
    }
   },
   "outputs": [],
   "source": [
    "# dd/mm/YY H:M:S\n",
    "dt_string = now.strftime(\"%d/%m/%Y %H:%M:%S\")\n",
    "print(\"date and time =\", dt_string)"
   ]
  },
  {
   "cell_type": "code",
   "execution_count": null,
   "id": "322c8da2",
   "metadata": {
    "ExecuteTime": {
     "end_time": "2023-10-30T21:17:04.268865Z",
     "start_time": "2023-10-30T21:17:04.268850Z"
    }
   },
   "outputs": [],
   "source": [
    "descriptions = []\n",
    "for job in job_listings:\n",
    "    description = job.find('div', class_='res-zb22na')\n",
    "    #descriptions.append(description.text)"
   ]
  },
  {
   "cell_type": "code",
   "execution_count": null,
   "id": "70ffc7c3",
   "metadata": {
    "ExecuteTime": {
     "end_time": "2023-10-30T21:17:04.270540Z",
     "start_time": "2023-10-30T21:17:04.270526Z"
    }
   },
   "outputs": [],
   "source": [
    "description"
   ]
  },
  {
   "cell_type": "code",
   "execution_count": null,
   "id": "781cc343",
   "metadata": {},
   "outputs": [],
   "source": []
  },
  {
   "cell_type": "code",
   "execution_count": null,
   "id": "4c279b2b",
   "metadata": {},
   "outputs": [],
   "source": []
  },
  {
   "cell_type": "code",
   "execution_count": null,
   "id": "84abc06c",
   "metadata": {
    "ExecuteTime": {
     "end_time": "2023-10-30T21:17:04.272122Z",
     "start_time": "2023-10-30T21:17:04.272108Z"
    }
   },
   "outputs": [],
   "source": [
    "job_titles"
   ]
  },
  {
   "cell_type": "code",
   "execution_count": null,
   "id": "57235b1b",
   "metadata": {
    "ExecuteTime": {
     "end_time": "2023-10-30T21:17:04.273758Z",
     "start_time": "2023-10-30T21:17:04.273739Z"
    }
   },
   "outputs": [],
   "source": [
    "#soup.find('span', class_='res-9ochkb')\n",
    "soup.find('time')\n",
    "\n",
    "### no idea how, but i somehow lost the datetime attribute"
   ]
  },
  {
   "cell_type": "code",
   "execution_count": null,
   "id": "2e527b87",
   "metadata": {
    "ExecuteTime": {
     "end_time": "2023-10-30T21:17:04.275574Z",
     "start_time": "2023-10-30T21:17:04.275556Z"
    }
   },
   "outputs": [],
   "source": [
    "soup.has_attr('datetime')"
   ]
  },
  {
   "cell_type": "code",
   "execution_count": null,
   "id": "c7514d1f",
   "metadata": {
    "ExecuteTime": {
     "end_time": "2023-10-30T21:17:04.277092Z",
     "start_time": "2023-10-30T21:17:04.277078Z"
    }
   },
   "outputs": [],
   "source": [
    "t = soup.find('time', {'datetime': True})"
   ]
  },
  {
   "cell_type": "code",
   "execution_count": null,
   "id": "87bb2924",
   "metadata": {
    "ExecuteTime": {
     "end_time": "2023-10-30T21:17:04.278466Z",
     "start_time": "2023-10-30T21:17:04.278453Z"
    }
   },
   "outputs": [],
   "source": [
    "print(t)"
   ]
  },
  {
   "cell_type": "code",
   "execution_count": null,
   "id": "509315f6",
   "metadata": {
    "ExecuteTime": {
     "end_time": "2023-10-30T21:17:04.280918Z",
     "start_time": "2023-10-30T21:17:04.280901Z"
    }
   },
   "outputs": [],
   "source": [
    "### creating dataframe out of data, without datetime"
   ]
  },
  {
   "cell_type": "code",
   "execution_count": null,
   "id": "e0c0266a",
   "metadata": {
    "ExecuteTime": {
     "end_time": "2023-10-30T21:17:04.283784Z",
     "start_time": "2023-10-30T21:17:04.283741Z"
    }
   },
   "outputs": [],
   "source": [
    "jobs_=[job_titles, companies, locations, descriptions]"
   ]
  },
  {
   "cell_type": "code",
   "execution_count": null,
   "id": "3d21c18e",
   "metadata": {
    "ExecuteTime": {
     "end_time": "2023-10-30T21:17:04.286181Z",
     "start_time": "2023-10-30T21:17:04.286167Z"
    }
   },
   "outputs": [],
   "source": [
    "df=pd.DataFrame(list(zip(job_titles, companies, locations, descriptions)), columns=['job_titles', 'companies', 'locations', 'descriptions'])"
   ]
  },
  {
   "cell_type": "code",
   "execution_count": null,
   "id": "9944a154",
   "metadata": {
    "ExecuteTime": {
     "end_time": "2023-10-30T21:17:04.287883Z",
     "start_time": "2023-10-30T21:17:04.287866Z"
    }
   },
   "outputs": [],
   "source": [
    "df"
   ]
  },
  {
   "cell_type": "code",
   "execution_count": null,
   "id": "e0f94e93",
   "metadata": {
    "ExecuteTime": {
     "end_time": "2023-10-30T21:17:04.289409Z",
     "start_time": "2023-10-30T21:17:04.289390Z"
    }
   },
   "outputs": [],
   "source": [
    "### save dataframe into .csv\n",
    "### maybe for data size efficiency using  pickle file\n",
    "\n",
    "#df.to_csv('./jobs.csv')"
   ]
  },
  {
   "cell_type": "code",
   "execution_count": null,
   "id": "cdc8737b",
   "metadata": {
    "ExecuteTime": {
     "end_time": "2023-10-30T21:17:04.291644Z",
     "start_time": "2023-10-30T21:17:04.291622Z"
    }
   },
   "outputs": [],
   "source": [
    "### creating dictionary out of df\n",
    "\n",
    "df_dict = df.to_dict()"
   ]
  },
  {
   "cell_type": "code",
   "execution_count": null,
   "id": "d5f17dbf",
   "metadata": {
    "ExecuteTime": {
     "end_time": "2023-10-30T21:17:04.293980Z",
     "start_time": "2023-10-30T21:17:04.293959Z"
    }
   },
   "outputs": [],
   "source": [
    "df_dict"
   ]
  },
  {
   "cell_type": "code",
   "execution_count": null,
   "id": "faa82d2c",
   "metadata": {
    "ExecuteTime": {
     "end_time": "2023-10-30T21:17:04.295635Z",
     "start_time": "2023-10-30T21:17:04.295615Z"
    }
   },
   "outputs": [],
   "source": [
    "### save data into .json\n",
    "jobs_dict = json.dumps(df_dict)"
   ]
  },
  {
   "cell_type": "code",
   "execution_count": null,
   "id": "b245fac9",
   "metadata": {
    "ExecuteTime": {
     "end_time": "2023-10-30T21:17:04.297741Z",
     "start_time": "2023-10-30T21:17:04.297665Z"
    }
   },
   "outputs": [],
   "source": [
    "with open (\"jobs_dict.json\", \"w\") as outfile:\n",
    "    outfile.write(jobs_dict)"
   ]
  },
  {
   "cell_type": "code",
   "execution_count": null,
   "id": "9819c71f",
   "metadata": {},
   "outputs": [],
   "source": []
  },
  {
   "cell_type": "code",
   "execution_count": null,
   "id": "193138bc",
   "metadata": {
    "ExecuteTime": {
     "end_time": "2023-10-30T21:17:04.299616Z",
     "start_time": "2023-10-30T21:17:04.299602Z"
    }
   },
   "outputs": [],
   "source": [
    "html = \"\"\"\n",
    "<span class=\"res-9ochkb\" data-genesis-element=\"TEXT\" data-at=\"job-item-timeago\"><time class=\"\" datetime=\"2023-10-11T16:27:37+02:00\" timeago-id=\"25\">vor 1 Tag</time></span>\n",
    "\"\"\""
   ]
  },
  {
   "cell_type": "code",
   "execution_count": null,
   "id": "c960a2cc",
   "metadata": {
    "ExecuteTime": {
     "end_time": "2023-10-30T21:17:04.301414Z",
     "start_time": "2023-10-30T21:17:04.301394Z"
    }
   },
   "outputs": [],
   "source": [
    "soup_test = bs(html)"
   ]
  },
  {
   "cell_type": "code",
   "execution_count": null,
   "id": "d3138d87",
   "metadata": {
    "ExecuteTime": {
     "end_time": "2023-10-30T21:17:04.304570Z",
     "start_time": "2023-10-30T21:17:04.304527Z"
    }
   },
   "outputs": [],
   "source": [
    "print(soup_test.find('time'))"
   ]
  },
  {
   "cell_type": "code",
   "execution_count": null,
   "id": "76b6fdea",
   "metadata": {
    "ExecuteTime": {
     "end_time": "2023-10-30T21:17:04.308761Z",
     "start_time": "2023-10-30T21:17:04.308730Z"
    }
   },
   "outputs": [],
   "source": [
    "soup.select('time')"
   ]
  },
  {
   "cell_type": "code",
   "execution_count": null,
   "id": "7167e3e2",
   "metadata": {},
   "outputs": [],
   "source": []
  },
  {
   "cell_type": "code",
   "execution_count": null,
   "id": "a7e14cb5",
   "metadata": {
    "ExecuteTime": {
     "end_time": "2023-10-28T15:32:16.414401Z",
     "start_time": "2023-10-28T15:32:16.410457Z"
    }
   },
   "outputs": [],
   "source": []
  },
  {
   "cell_type": "code",
   "execution_count": null,
   "id": "baaf14a9",
   "metadata": {
    "ExecuteTime": {
     "end_time": "2023-10-28T15:32:18.707148Z",
     "start_time": "2023-10-28T15:32:18.703011Z"
    }
   },
   "outputs": [],
   "source": []
  },
  {
   "cell_type": "code",
   "execution_count": null,
   "id": "8569c874",
   "metadata": {
    "ExecuteTime": {
     "end_time": "2023-10-28T15:32:20.577292Z",
     "start_time": "2023-10-28T15:32:20.573258Z"
    }
   },
   "outputs": [],
   "source": []
  },
  {
   "cell_type": "code",
   "execution_count": null,
   "id": "a148eb0f",
   "metadata": {
    "ExecuteTime": {
     "end_time": "2023-10-28T15:33:15.365800Z",
     "start_time": "2023-10-28T15:32:22.959957Z"
    }
   },
   "outputs": [],
   "source": []
  },
  {
   "cell_type": "code",
   "execution_count": null,
   "id": "ed219962",
   "metadata": {},
   "outputs": [],
   "source": []
  },
  {
   "cell_type": "code",
   "execution_count": null,
   "id": "fa772482",
   "metadata": {},
   "outputs": [],
   "source": []
  },
  {
   "cell_type": "code",
   "execution_count": null,
   "id": "d260a8a0",
   "metadata": {},
   "outputs": [],
   "source": []
  },
  {
   "cell_type": "code",
   "execution_count": null,
   "id": "d095a9b3",
   "metadata": {},
   "outputs": [],
   "source": []
  },
  {
   "cell_type": "code",
   "execution_count": null,
   "id": "2bd6a1cf",
   "metadata": {},
   "outputs": [],
   "source": []
  }
 ],
 "metadata": {
  "kernelspec": {
   "display_name": "Python 3 (ipykernel)",
   "language": "python",
   "name": "python3"
  },
  "language_info": {
   "codemirror_mode": {
    "name": "ipython",
    "version": 3
   },
   "file_extension": ".py",
   "mimetype": "text/x-python",
   "name": "python",
   "nbconvert_exporter": "python",
   "pygments_lexer": "ipython3",
   "version": "3.10.0"
  },
  "toc": {
   "base_numbering": 1,
   "nav_menu": {},
   "number_sections": true,
   "sideBar": true,
   "skip_h1_title": false,
   "title_cell": "Table of Contents",
   "title_sidebar": "Contents",
   "toc_cell": false,
   "toc_position": {},
   "toc_section_display": true,
   "toc_window_display": false
  },
  "varInspector": {
   "cols": {
    "lenName": 16,
    "lenType": 16,
    "lenVar": 40
   },
   "kernels_config": {
    "python": {
     "delete_cmd_postfix": "",
     "delete_cmd_prefix": "del ",
     "library": "var_list.py",
     "varRefreshCmd": "print(var_dic_list())"
    },
    "r": {
     "delete_cmd_postfix": ") ",
     "delete_cmd_prefix": "rm(",
     "library": "var_list.r",
     "varRefreshCmd": "cat(var_dic_list()) "
    }
   },
   "types_to_exclude": [
    "module",
    "function",
    "builtin_function_or_method",
    "instance",
    "_Feature"
   ],
   "window_display": false
  }
 },
 "nbformat": 4,
 "nbformat_minor": 5
}
