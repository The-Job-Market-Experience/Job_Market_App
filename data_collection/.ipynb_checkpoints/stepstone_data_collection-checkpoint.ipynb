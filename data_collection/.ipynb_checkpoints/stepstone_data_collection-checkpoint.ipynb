{
 "cells": [
  {
   "cell_type": "code",
   "execution_count": 13,
   "id": "8bb3e2b5",
   "metadata": {
    "ExecuteTime": {
     "end_time": "2023-10-11T21:30:42.726511Z",
     "start_time": "2023-10-11T21:30:42.721646Z"
    }
   },
   "outputs": [],
   "source": [
    "### import libraries\n",
    "\n",
    "from bs4 import BeautifulSoup as bs\n",
    "import requests\n",
    "import pandas as pd\n",
    "\n",
    "import datetime"
   ]
  },
  {
   "cell_type": "code",
   "execution_count": 2,
   "id": "189e12b3",
   "metadata": {
    "ExecuteTime": {
     "end_time": "2023-10-11T21:29:15.712837Z",
     "start_time": "2023-10-11T21:29:15.370707Z"
    }
   },
   "outputs": [],
   "source": [
    "### request html code\n",
    "### english language and germany. otherwise no parameter\n",
    "\n",
    "url = 'https://www.stepstone.de/jobs/in-germany?radius=30&action=facet_selected%3bdetectedLanguages%3ben&fdl=en'\n",
    "headers = {'User-Agent': 'Mozilla/5.0 (Macintosh; Intel Mac OS X 10.10; rv:39.0)'}\n",
    "\n",
    "response = requests.get(url, headers=headers)"
   ]
  },
  {
   "cell_type": "code",
   "execution_count": 3,
   "id": "8577a0e0",
   "metadata": {
    "ExecuteTime": {
     "end_time": "2023-10-11T21:29:15.727338Z",
     "start_time": "2023-10-11T21:29:15.716969Z"
    }
   },
   "outputs": [
    {
     "data": {
      "text/plain": [
       "<Response [200]>"
      ]
     },
     "execution_count": 3,
     "metadata": {},
     "output_type": "execute_result"
    }
   ],
   "source": [
    "response"
   ]
  },
  {
   "cell_type": "code",
   "execution_count": 4,
   "id": "9309f82e",
   "metadata": {
    "ExecuteTime": {
     "end_time": "2023-10-11T21:29:15.915004Z",
     "start_time": "2023-10-11T21:29:15.731539Z"
    }
   },
   "outputs": [],
   "source": [
    "### parse response with beautiful soup\n",
    "\n",
    "soup = bs(response.content, \"html.parser\")"
   ]
  },
  {
   "cell_type": "code",
   "execution_count": 5,
   "id": "7e760488",
   "metadata": {
    "ExecuteTime": {
     "end_time": "2023-10-11T21:29:15.924813Z",
     "start_time": "2023-10-11T21:29:15.918466Z"
    }
   },
   "outputs": [
    {
     "data": {
      "text/plain": [
       "<title>Aktuelle Jobs und Stellenangebote in Germany - Oktober 2023</title>"
      ]
     },
     "execution_count": 5,
     "metadata": {},
     "output_type": "execute_result"
    }
   ],
   "source": [
    "soup.title"
   ]
  },
  {
   "cell_type": "code",
   "execution_count": 6,
   "id": "4522f0eb",
   "metadata": {
    "ExecuteTime": {
     "end_time": "2023-10-11T21:29:15.934971Z",
     "start_time": "2023-10-11T21:29:15.927064Z"
    }
   },
   "outputs": [],
   "source": [
    "### job block, displayed on landing page for each job offer\n",
    "jobs = soup.find_all('article', class_='res-j5y1mq')"
   ]
  },
  {
   "cell_type": "code",
   "execution_count": 9,
   "id": "6bfcdbbe",
   "metadata": {
    "ExecuteTime": {
     "end_time": "2023-10-11T21:29:15.958161Z",
     "start_time": "2023-10-11T21:29:15.952626Z"
    }
   },
   "outputs": [
    {
     "data": {
      "text/plain": [
       "25"
      ]
     },
     "execution_count": 9,
     "metadata": {},
     "output_type": "execute_result"
    }
   ],
   "source": [
    "len(jobs)"
   ]
  },
  {
   "cell_type": "code",
   "execution_count": 38,
   "id": "beaaa19b",
   "metadata": {
    "ExecuteTime": {
     "end_time": "2023-10-11T21:43:19.152144Z",
     "start_time": "2023-10-11T21:43:19.127459Z"
    }
   },
   "outputs": [],
   "source": [
    "job_titles, companies, locations, descriptions, times = [],[],[],[],[]\n",
    "\n",
    "for job in jobs:\n",
    "    job_title = job.find('div', class_='res-nehv70').text\n",
    "    job_titles.append(job_title)\n",
    "    \n",
    "    company = job.find('span', class_='res-btchsq')\n",
    "    companies.append(company.text)\n",
    "    \n",
    "    location = company.find_next('span', class_='res-btchsq')\n",
    "    locations.append(location.text)\n",
    "    \n",
    "    description = job.find('div', class_='res-1d1eotm')\n",
    "    descriptions.append(description.text)\n",
    "    \n",
    "    time_element =  soup.find('time')\n",
    "    times.append(time_element['datetime'])\n",
    "    \n",
    "### the descritions are cut at some point.\n",
    "### i think it is needed to follow the given url to get to the entire description"
   ]
  },
  {
   "cell_type": "code",
   "execution_count": 40,
   "id": "57235b1b",
   "metadata": {
    "ExecuteTime": {
     "end_time": "2023-10-11T21:43:30.353627Z",
     "start_time": "2023-10-11T21:43:30.347432Z"
    }
   },
   "outputs": [
    {
     "data": {
      "text/plain": [
       "25"
      ]
     },
     "execution_count": 40,
     "metadata": {},
     "output_type": "execute_result"
    }
   ],
   "source": [
    "len(times)"
   ]
  },
  {
   "cell_type": "code",
   "execution_count": null,
   "id": "509315f6",
   "metadata": {},
   "outputs": [],
   "source": []
  },
  {
   "cell_type": "code",
   "execution_count": null,
   "id": "193138bc",
   "metadata": {},
   "outputs": [],
   "source": []
  },
  {
   "cell_type": "code",
   "execution_count": null,
   "id": "c960a2cc",
   "metadata": {},
   "outputs": [],
   "source": []
  }
 ],
 "metadata": {
  "kernelspec": {
   "display_name": "Python 3 (ipykernel)",
   "language": "python",
   "name": "python3"
  },
  "language_info": {
   "codemirror_mode": {
    "name": "ipython",
    "version": 3
   },
   "file_extension": ".py",
   "mimetype": "text/x-python",
   "name": "python",
   "nbconvert_exporter": "python",
   "pygments_lexer": "ipython3",
   "version": "3.10.0"
  },
  "toc": {
   "base_numbering": 1,
   "nav_menu": {},
   "number_sections": true,
   "sideBar": true,
   "skip_h1_title": false,
   "title_cell": "Table of Contents",
   "title_sidebar": "Contents",
   "toc_cell": false,
   "toc_position": {},
   "toc_section_display": true,
   "toc_window_display": false
  },
  "varInspector": {
   "cols": {
    "lenName": 16,
    "lenType": 16,
    "lenVar": 40
   },
   "kernels_config": {
    "python": {
     "delete_cmd_postfix": "",
     "delete_cmd_prefix": "del ",
     "library": "var_list.py",
     "varRefreshCmd": "print(var_dic_list())"
    },
    "r": {
     "delete_cmd_postfix": ") ",
     "delete_cmd_prefix": "rm(",
     "library": "var_list.r",
     "varRefreshCmd": "cat(var_dic_list()) "
    }
   },
   "types_to_exclude": [
    "module",
    "function",
    "builtin_function_or_method",
    "instance",
    "_Feature"
   ],
   "window_display": false
  }
 },
 "nbformat": 4,
 "nbformat_minor": 5
}
